{
  "nbformat": 4,
  "nbformat_minor": 0,
  "metadata": {
    "kernelspec": {
      "display_name": "Python 3",
      "language": "python",
      "name": "python3"
    },
    "language_info": {
      "codemirror_mode": {
        "name": "ipython",
        "version": 3
      },
      "file_extension": ".py",
      "mimetype": "text/x-python",
      "name": "python",
      "nbconvert_exporter": "python",
      "pygments_lexer": "ipython3",
      "version": "3.5.4"
    },
    "colab": {
      "name": "DecisionTree.ipynb",
      "provenance": [],
      "collapsed_sections": []
    }
  },
  "cells": [
    {
      "cell_type": "code",
      "metadata": {
        "id": "JXgtuLKTXdI5"
      },
      "source": [
        "import pandas as pd\n",
        "import matplotlib\n",
        "import numpy as np\n",
        "import matplotlib.pyplot as plt\n",
        "%matplotlib inline "
      ],
      "execution_count": 34,
      "outputs": []
    },
    {
      "cell_type": "markdown",
      "metadata": {
        "id": "jFH2rtvtXeU6"
      },
      "source": [
        "# Новый раздел"
      ]
    },
    {
      "cell_type": "code",
      "metadata": {
        "id": "RTibk3ZDXdI6"
      },
      "source": [
        "df = pd.read_csv('diabetes.csv') "
      ],
      "execution_count": 35,
      "outputs": []
    },
    {
      "cell_type": "code",
      "metadata": {
        "colab": {
          "base_uri": "https://localhost:8080/",
          "height": 204
        },
        "id": "iTzZOBJjXdI7",
        "outputId": "614a69bd-c586-4c84-82d3-9c06a722fe73"
      },
      "source": [
        "df.head()"
      ],
      "execution_count": 36,
      "outputs": [
        {
          "output_type": "execute_result",
          "data": {
            "text/html": [
              "<div>\n",
              "<style scoped>\n",
              "    .dataframe tbody tr th:only-of-type {\n",
              "        vertical-align: middle;\n",
              "    }\n",
              "\n",
              "    .dataframe tbody tr th {\n",
              "        vertical-align: top;\n",
              "    }\n",
              "\n",
              "    .dataframe thead th {\n",
              "        text-align: right;\n",
              "    }\n",
              "</style>\n",
              "<table border=\"1\" class=\"dataframe\">\n",
              "  <thead>\n",
              "    <tr style=\"text-align: right;\">\n",
              "      <th></th>\n",
              "      <th>Pregnancies</th>\n",
              "      <th>Glucose</th>\n",
              "      <th>BloodPressure</th>\n",
              "      <th>SkinThickness</th>\n",
              "      <th>Insulin</th>\n",
              "      <th>BMI</th>\n",
              "      <th>DiabetesPedigreeFunction</th>\n",
              "      <th>Age</th>\n",
              "      <th>Outcome</th>\n",
              "    </tr>\n",
              "  </thead>\n",
              "  <tbody>\n",
              "    <tr>\n",
              "      <th>0</th>\n",
              "      <td>6</td>\n",
              "      <td>148</td>\n",
              "      <td>72</td>\n",
              "      <td>35</td>\n",
              "      <td>0</td>\n",
              "      <td>33.6</td>\n",
              "      <td>0.627</td>\n",
              "      <td>50</td>\n",
              "      <td>1</td>\n",
              "    </tr>\n",
              "    <tr>\n",
              "      <th>1</th>\n",
              "      <td>1</td>\n",
              "      <td>85</td>\n",
              "      <td>66</td>\n",
              "      <td>29</td>\n",
              "      <td>0</td>\n",
              "      <td>26.6</td>\n",
              "      <td>0.351</td>\n",
              "      <td>31</td>\n",
              "      <td>0</td>\n",
              "    </tr>\n",
              "    <tr>\n",
              "      <th>2</th>\n",
              "      <td>8</td>\n",
              "      <td>183</td>\n",
              "      <td>64</td>\n",
              "      <td>0</td>\n",
              "      <td>0</td>\n",
              "      <td>23.3</td>\n",
              "      <td>0.672</td>\n",
              "      <td>32</td>\n",
              "      <td>1</td>\n",
              "    </tr>\n",
              "    <tr>\n",
              "      <th>3</th>\n",
              "      <td>1</td>\n",
              "      <td>89</td>\n",
              "      <td>66</td>\n",
              "      <td>23</td>\n",
              "      <td>94</td>\n",
              "      <td>28.1</td>\n",
              "      <td>0.167</td>\n",
              "      <td>21</td>\n",
              "      <td>0</td>\n",
              "    </tr>\n",
              "    <tr>\n",
              "      <th>4</th>\n",
              "      <td>0</td>\n",
              "      <td>137</td>\n",
              "      <td>40</td>\n",
              "      <td>35</td>\n",
              "      <td>168</td>\n",
              "      <td>43.1</td>\n",
              "      <td>2.288</td>\n",
              "      <td>33</td>\n",
              "      <td>1</td>\n",
              "    </tr>\n",
              "  </tbody>\n",
              "</table>\n",
              "</div>"
            ],
            "text/plain": [
              "   Pregnancies  Glucose  BloodPressure  ...  DiabetesPedigreeFunction  Age  Outcome\n",
              "0            6      148             72  ...                     0.627   50        1\n",
              "1            1       85             66  ...                     0.351   31        0\n",
              "2            8      183             64  ...                     0.672   32        1\n",
              "3            1       89             66  ...                     0.167   21        0\n",
              "4            0      137             40  ...                     2.288   33        1\n",
              "\n",
              "[5 rows x 9 columns]"
            ]
          },
          "metadata": {},
          "execution_count": 36
        }
      ]
    },
    {
      "cell_type": "markdown",
      "metadata": {
        "id": "zkaq06m0XdI8"
      },
      "source": [
        "Отбор первых 590 строк:"
      ]
    },
    {
      "cell_type": "code",
      "metadata": {
        "id": "9UyITScuXdI9"
      },
      "source": [
        "task_data = df.head(690)"
      ],
      "execution_count": 37,
      "outputs": []
    },
    {
      "cell_type": "markdown",
      "metadata": {
        "id": "wrrbCF-OXdI9"
      },
      "source": [
        "Вывод числа строк в получившейся выборке и относящихся к классу 1 (пациент болен диабетом)"
      ]
    },
    {
      "cell_type": "code",
      "metadata": {
        "colab": {
          "base_uri": "https://localhost:8080/"
        },
        "id": "uGQ9BrPdXdI-",
        "outputId": "ecb8d66e-b911-47c6-b123-4be9a1608b15"
      },
      "source": [
        "len(task_data[task_data['Outcome'] == 0])"
      ],
      "execution_count": 38,
      "outputs": [
        {
          "output_type": "execute_result",
          "data": {
            "text/plain": [
              "453"
            ]
          },
          "metadata": {},
          "execution_count": 38
        }
      ]
    },
    {
      "cell_type": "markdown",
      "metadata": {
        "id": "ki49io9LXdI-"
      },
      "source": [
        "Разделеные данных на тренировочные и тестовые. Первые 70% строк — тренировочные, остальные — тестовые."
      ]
    },
    {
      "cell_type": "code",
      "metadata": {
        "id": "nEYNUY1ZXdI_"
      },
      "source": [
        "train = task_data.head(int(len(task_data)*0.8))\n",
        "test = task_data.tail(int(len(task_data)*0.2))"
      ],
      "execution_count": 39,
      "outputs": []
    },
    {
      "cell_type": "markdown",
      "metadata": {
        "id": "1nVg-6OiXdI_"
      },
      "source": [
        "Выделяем предикторы (8 первых столбцов) и отклик (Outcome):"
      ]
    },
    {
      "cell_type": "code",
      "metadata": {
        "id": "rmDu3Mo4XdJA"
      },
      "source": [
        "features = list(train.columns[:8])\n",
        "x = train[features]\n",
        "y = train['Outcome']"
      ],
      "execution_count": 40,
      "outputs": []
    },
    {
      "cell_type": "markdown",
      "metadata": {
        "id": "FeSdaFRLXdJA"
      },
      "source": [
        "Подключем классификатор DecisionTreeClassifier:"
      ]
    },
    {
      "cell_type": "code",
      "metadata": {
        "id": "LG_iQxHJXdJA"
      },
      "source": [
        "from sklearn.tree import DecisionTreeClassifier"
      ],
      "execution_count": 41,
      "outputs": []
    },
    {
      "cell_type": "markdown",
      "metadata": {
        "id": "Ok4_Qh3yXdJB"
      },
      "source": [
        "Задаем параметры дерева принятия решений и обучаем модель:"
      ]
    },
    {
      "cell_type": "code",
      "metadata": {
        "id": "LoBt_BGkXdJB"
      },
      "source": [
        "tree = DecisionTreeClassifier(criterion='entropy', #критерий разделения\n",
        "                              min_samples_leaf=10, #минимальное число объектов в листе\n",
        "                              max_leaf_nodes=20, #максимальное число листьев\n",
        "                              random_state=2020)\n",
        "clf=tree.fit(x, y)"
      ],
      "execution_count": 42,
      "outputs": []
    },
    {
      "cell_type": "markdown",
      "metadata": {
        "id": "kC7hdVJjXdJB"
      },
      "source": [
        "Подключаем библиотеку для визуализации дерева. Сохраняем в файл и выводим на экран."
      ]
    },
    {
      "cell_type": "code",
      "metadata": {
        "colab": {
          "base_uri": "https://localhost:8080/",
          "height": 1000
        },
        "id": "MeMM-MDzXdJB",
        "outputId": "92bbde9c-7972-4e2b-c7f4-0e26a0c07159"
      },
      "source": [
        "from sklearn.tree import export_graphviz\n",
        "import graphviz\n",
        "columns = list(x.columns)\n",
        "export_graphviz(clf, out_file='tree.dot', \n",
        "                feature_names=columns,\n",
        "                class_names=['0', '1'],\n",
        "                rounded = True, proportion = False, \n",
        "                precision = 2, filled = True, label='all')\n",
        "\n",
        "with open('tree.dot') as f:\n",
        "    dot_graph = f.read()\n",
        "\n",
        "graphviz.Source(dot_graph)"
      ],
      "execution_count": 43,
      "outputs": [
        {
          "output_type": "execute_result",
          "data": {
            "text/plain": [
              "<graphviz.files.Source at 0x7f5dc97c1290>"
            ],
            "image/svg+xml": "<?xml version=\"1.0\" encoding=\"UTF-8\" standalone=\"no\"?>\n<!DOCTYPE svg PUBLIC \"-//W3C//DTD SVG 1.1//EN\"\n \"http://www.w3.org/Graphics/SVG/1.1/DTD/svg11.dtd\">\n<!-- Generated by graphviz version 2.40.1 (20161225.0304)\n -->\n<!-- Title: Tree Pages: 1 -->\n<svg width=\"1826pt\" height=\"790pt\"\n viewBox=\"0.00 0.00 1826.00 790.00\" xmlns=\"http://www.w3.org/2000/svg\" xmlns:xlink=\"http://www.w3.org/1999/xlink\">\n<g id=\"graph0\" class=\"graph\" transform=\"scale(1 1) rotate(0) translate(4 786)\">\n<title>Tree</title>\n<polygon fill=\"#ffffff\" stroke=\"transparent\" points=\"-4,4 -4,-786 1822,-786 1822,4 -4,4\"/>\n<!-- 0 -->\n<g id=\"node1\" class=\"node\">\n<title>0</title>\n<path fill=\"#f3c6a5\" stroke=\"#000000\" d=\"M797.5,-782C797.5,-782 689.5,-782 689.5,-782 683.5,-782 677.5,-776 677.5,-770 677.5,-770 677.5,-711 677.5,-711 677.5,-705 683.5,-699 689.5,-699 689.5,-699 797.5,-699 797.5,-699 803.5,-699 809.5,-705 809.5,-711 809.5,-711 809.5,-770 809.5,-770 809.5,-776 803.5,-782 797.5,-782\"/>\n<text text-anchor=\"middle\" x=\"743.5\" y=\"-766.8\" font-family=\"Helvetica,sans-Serif\" font-size=\"14.00\" fill=\"#000000\">Glucose &lt;= 127.5</text>\n<text text-anchor=\"middle\" x=\"743.5\" y=\"-751.8\" font-family=\"Helvetica,sans-Serif\" font-size=\"14.00\" fill=\"#000000\">entropy = 0.94</text>\n<text text-anchor=\"middle\" x=\"743.5\" y=\"-736.8\" font-family=\"Helvetica,sans-Serif\" font-size=\"14.00\" fill=\"#000000\">samples = 552</text>\n<text text-anchor=\"middle\" x=\"743.5\" y=\"-721.8\" font-family=\"Helvetica,sans-Serif\" font-size=\"14.00\" fill=\"#000000\">value = [357, 195]</text>\n<text text-anchor=\"middle\" x=\"743.5\" y=\"-706.8\" font-family=\"Helvetica,sans-Serif\" font-size=\"14.00\" fill=\"#000000\">class = 0</text>\n</g>\n<!-- 1 -->\n<g id=\"node2\" class=\"node\">\n<title>1</title>\n<path fill=\"#eca16c\" stroke=\"#000000\" d=\"M717.5,-663C717.5,-663 617.5,-663 617.5,-663 611.5,-663 605.5,-657 605.5,-651 605.5,-651 605.5,-592 605.5,-592 605.5,-586 611.5,-580 617.5,-580 617.5,-580 717.5,-580 717.5,-580 723.5,-580 729.5,-586 729.5,-592 729.5,-592 729.5,-651 729.5,-651 729.5,-657 723.5,-663 717.5,-663\"/>\n<text text-anchor=\"middle\" x=\"667.5\" y=\"-647.8\" font-family=\"Helvetica,sans-Serif\" font-size=\"14.00\" fill=\"#000000\">Age &lt;= 27.5</text>\n<text text-anchor=\"middle\" x=\"667.5\" y=\"-632.8\" font-family=\"Helvetica,sans-Serif\" font-size=\"14.00\" fill=\"#000000\">entropy = 0.73</text>\n<text text-anchor=\"middle\" x=\"667.5\" y=\"-617.8\" font-family=\"Helvetica,sans-Serif\" font-size=\"14.00\" fill=\"#000000\">samples = 343</text>\n<text text-anchor=\"middle\" x=\"667.5\" y=\"-602.8\" font-family=\"Helvetica,sans-Serif\" font-size=\"14.00\" fill=\"#000000\">value = [273, 70]</text>\n<text text-anchor=\"middle\" x=\"667.5\" y=\"-587.8\" font-family=\"Helvetica,sans-Serif\" font-size=\"14.00\" fill=\"#000000\">class = 0</text>\n</g>\n<!-- 0&#45;&gt;1 -->\n<g id=\"edge1\" class=\"edge\">\n<title>0&#45;&gt;1</title>\n<path fill=\"none\" stroke=\"#000000\" d=\"M716.9189,-698.8796C711.3395,-690.1434 705.3981,-680.8404 699.6405,-671.8253\"/>\n<polygon fill=\"#000000\" stroke=\"#000000\" points=\"702.5269,-669.8421 694.1946,-663.2981 696.6274,-673.6098 702.5269,-669.8421\"/>\n<text text-anchor=\"middle\" x=\"688.8111\" y=\"-684.0116\" font-family=\"Helvetica,sans-Serif\" font-size=\"14.00\" fill=\"#000000\">True</text>\n</g>\n<!-- 2 -->\n<g id=\"node19\" class=\"node\">\n<title>2</title>\n<path fill=\"#bedff6\" stroke=\"#000000\" d=\"M925.5,-663C925.5,-663 825.5,-663 825.5,-663 819.5,-663 813.5,-657 813.5,-651 813.5,-651 813.5,-592 813.5,-592 813.5,-586 819.5,-580 825.5,-580 825.5,-580 925.5,-580 925.5,-580 931.5,-580 937.5,-586 937.5,-592 937.5,-592 937.5,-651 937.5,-651 937.5,-657 931.5,-663 925.5,-663\"/>\n<text text-anchor=\"middle\" x=\"875.5\" y=\"-647.8\" font-family=\"Helvetica,sans-Serif\" font-size=\"14.00\" fill=\"#000000\">BMI &lt;= 29.95</text>\n<text text-anchor=\"middle\" x=\"875.5\" y=\"-632.8\" font-family=\"Helvetica,sans-Serif\" font-size=\"14.00\" fill=\"#000000\">entropy = 0.97</text>\n<text text-anchor=\"middle\" x=\"875.5\" y=\"-617.8\" font-family=\"Helvetica,sans-Serif\" font-size=\"14.00\" fill=\"#000000\">samples = 209</text>\n<text text-anchor=\"middle\" x=\"875.5\" y=\"-602.8\" font-family=\"Helvetica,sans-Serif\" font-size=\"14.00\" fill=\"#000000\">value = [84, 125]</text>\n<text text-anchor=\"middle\" x=\"875.5\" y=\"-587.8\" font-family=\"Helvetica,sans-Serif\" font-size=\"14.00\" fill=\"#000000\">class = 1</text>\n</g>\n<!-- 0&#45;&gt;2 -->\n<g id=\"edge18\" class=\"edge\">\n<title>0&#45;&gt;2</title>\n<path fill=\"none\" stroke=\"#000000\" d=\"M789.6672,-698.8796C799.9571,-689.6031 810.956,-679.6874 821.5287,-670.1559\"/>\n<polygon fill=\"#000000\" stroke=\"#000000\" points=\"824.0519,-672.5935 829.1358,-663.2981 819.3648,-667.3944 824.0519,-672.5935\"/>\n<text text-anchor=\"middle\" x=\"827.8427\" y=\"-684.5646\" font-family=\"Helvetica,sans-Serif\" font-size=\"14.00\" fill=\"#000000\">False</text>\n</g>\n<!-- 3 -->\n<g id=\"node3\" class=\"node\">\n<title>3</title>\n<path fill=\"#e78b49\" stroke=\"#000000\" d=\"M473.5,-544C473.5,-544 373.5,-544 373.5,-544 367.5,-544 361.5,-538 361.5,-532 361.5,-532 361.5,-473 361.5,-473 361.5,-467 367.5,-461 373.5,-461 373.5,-461 473.5,-461 473.5,-461 479.5,-461 485.5,-467 485.5,-473 485.5,-473 485.5,-532 485.5,-532 485.5,-538 479.5,-544 473.5,-544\"/>\n<text text-anchor=\"middle\" x=\"423.5\" y=\"-528.8\" font-family=\"Helvetica,sans-Serif\" font-size=\"14.00\" fill=\"#000000\">BMI &lt;= 30.9</text>\n<text text-anchor=\"middle\" x=\"423.5\" y=\"-513.8\" font-family=\"Helvetica,sans-Serif\" font-size=\"14.00\" fill=\"#000000\">entropy = 0.38</text>\n<text text-anchor=\"middle\" x=\"423.5\" y=\"-498.8\" font-family=\"Helvetica,sans-Serif\" font-size=\"14.00\" fill=\"#000000\">samples = 175</text>\n<text text-anchor=\"middle\" x=\"423.5\" y=\"-483.8\" font-family=\"Helvetica,sans-Serif\" font-size=\"14.00\" fill=\"#000000\">value = [162, 13]</text>\n<text text-anchor=\"middle\" x=\"423.5\" y=\"-468.8\" font-family=\"Helvetica,sans-Serif\" font-size=\"14.00\" fill=\"#000000\">class = 0</text>\n</g>\n<!-- 1&#45;&gt;3 -->\n<g id=\"edge2\" class=\"edge\">\n<title>1&#45;&gt;3</title>\n<path fill=\"none\" stroke=\"#000000\" d=\"M605.2972,-591.1634C571.5982,-574.7282 529.8124,-554.3491 494.8021,-537.2744\"/>\n<polygon fill=\"#000000\" stroke=\"#000000\" points=\"496.1115,-534.019 485.5893,-532.7812 493.0431,-540.3106 496.1115,-534.019\"/>\n</g>\n<!-- 4 -->\n<g id=\"node12\" class=\"node\">\n<title>4</title>\n<path fill=\"#f2c29f\" stroke=\"#000000\" d=\"M717.5,-544C717.5,-544 617.5,-544 617.5,-544 611.5,-544 605.5,-538 605.5,-532 605.5,-532 605.5,-473 605.5,-473 605.5,-467 611.5,-461 617.5,-461 617.5,-461 717.5,-461 717.5,-461 723.5,-461 729.5,-467 729.5,-473 729.5,-473 729.5,-532 729.5,-532 729.5,-538 723.5,-544 717.5,-544\"/>\n<text text-anchor=\"middle\" x=\"667.5\" y=\"-528.8\" font-family=\"Helvetica,sans-Serif\" font-size=\"14.00\" fill=\"#000000\">BMI &lt;= 26.35</text>\n<text text-anchor=\"middle\" x=\"667.5\" y=\"-513.8\" font-family=\"Helvetica,sans-Serif\" font-size=\"14.00\" fill=\"#000000\">entropy = 0.92</text>\n<text text-anchor=\"middle\" x=\"667.5\" y=\"-498.8\" font-family=\"Helvetica,sans-Serif\" font-size=\"14.00\" fill=\"#000000\">samples = 168</text>\n<text text-anchor=\"middle\" x=\"667.5\" y=\"-483.8\" font-family=\"Helvetica,sans-Serif\" font-size=\"14.00\" fill=\"#000000\">value = [111, 57]</text>\n<text text-anchor=\"middle\" x=\"667.5\" y=\"-468.8\" font-family=\"Helvetica,sans-Serif\" font-size=\"14.00\" fill=\"#000000\">class = 0</text>\n</g>\n<!-- 1&#45;&gt;4 -->\n<g id=\"edge11\" class=\"edge\">\n<title>1&#45;&gt;4</title>\n<path fill=\"none\" stroke=\"#000000\" d=\"M667.5,-579.8796C667.5,-571.6838 667.5,-562.9891 667.5,-554.5013\"/>\n<polygon fill=\"#000000\" stroke=\"#000000\" points=\"671.0001,-554.298 667.5,-544.2981 664.0001,-554.2981 671.0001,-554.298\"/>\n</g>\n<!-- 9 -->\n<g id=\"node4\" class=\"node\">\n<title>9</title>\n<path fill=\"#e5823b\" stroke=\"#000000\" d=\"M289.5,-425C289.5,-425 71.5,-425 71.5,-425 65.5,-425 59.5,-419 59.5,-413 59.5,-413 59.5,-354 59.5,-354 59.5,-348 65.5,-342 71.5,-342 71.5,-342 289.5,-342 289.5,-342 295.5,-342 301.5,-348 301.5,-354 301.5,-354 301.5,-413 301.5,-413 301.5,-419 295.5,-425 289.5,-425\"/>\n<text text-anchor=\"middle\" x=\"180.5\" y=\"-409.8\" font-family=\"Helvetica,sans-Serif\" font-size=\"14.00\" fill=\"#000000\">DiabetesPedigreeFunction &lt;= 0.67</text>\n<text text-anchor=\"middle\" x=\"180.5\" y=\"-394.8\" font-family=\"Helvetica,sans-Serif\" font-size=\"14.00\" fill=\"#000000\">entropy = 0.08</text>\n<text text-anchor=\"middle\" x=\"180.5\" y=\"-379.8\" font-family=\"Helvetica,sans-Serif\" font-size=\"14.00\" fill=\"#000000\">samples = 104</text>\n<text text-anchor=\"middle\" x=\"180.5\" y=\"-364.8\" font-family=\"Helvetica,sans-Serif\" font-size=\"14.00\" fill=\"#000000\">value = [103, 1]</text>\n<text text-anchor=\"middle\" x=\"180.5\" y=\"-349.8\" font-family=\"Helvetica,sans-Serif\" font-size=\"14.00\" fill=\"#000000\">class = 0</text>\n</g>\n<!-- 3&#45;&gt;9 -->\n<g id=\"edge3\" class=\"edge\">\n<title>3&#45;&gt;9</title>\n<path fill=\"none\" stroke=\"#000000\" d=\"M361.237,-472.0091C334.9713,-459.1464 303.8155,-443.8891 274.8334,-429.6962\"/>\n<polygon fill=\"#000000\" stroke=\"#000000\" points=\"276.0292,-426.3847 265.5089,-425.1299 272.9505,-432.6713 276.0292,-426.3847\"/>\n</g>\n<!-- 10 -->\n<g id=\"node7\" class=\"node\">\n<title>10</title>\n<path fill=\"#ea9b61\" stroke=\"#000000\" d=\"M477,-425C477,-425 370,-425 370,-425 364,-425 358,-419 358,-413 358,-413 358,-354 358,-354 358,-348 364,-342 370,-342 370,-342 477,-342 477,-342 483,-342 489,-348 489,-354 489,-354 489,-413 489,-413 489,-419 483,-425 477,-425\"/>\n<text text-anchor=\"middle\" x=\"423.5\" y=\"-409.8\" font-family=\"Helvetica,sans-Serif\" font-size=\"14.00\" fill=\"#000000\">Glucose &lt;= 113.5</text>\n<text text-anchor=\"middle\" x=\"423.5\" y=\"-394.8\" font-family=\"Helvetica,sans-Serif\" font-size=\"14.00\" fill=\"#000000\">entropy = 0.66</text>\n<text text-anchor=\"middle\" x=\"423.5\" y=\"-379.8\" font-family=\"Helvetica,sans-Serif\" font-size=\"14.00\" fill=\"#000000\">samples = 71</text>\n<text text-anchor=\"middle\" x=\"423.5\" y=\"-364.8\" font-family=\"Helvetica,sans-Serif\" font-size=\"14.00\" fill=\"#000000\">value = [59, 12]</text>\n<text text-anchor=\"middle\" x=\"423.5\" y=\"-349.8\" font-family=\"Helvetica,sans-Serif\" font-size=\"14.00\" fill=\"#000000\">class = 0</text>\n</g>\n<!-- 3&#45;&gt;10 -->\n<g id=\"edge6\" class=\"edge\">\n<title>3&#45;&gt;10</title>\n<path fill=\"none\" stroke=\"#000000\" d=\"M423.5,-460.8796C423.5,-452.6838 423.5,-443.9891 423.5,-435.5013\"/>\n<polygon fill=\"#000000\" stroke=\"#000000\" points=\"427.0001,-435.298 423.5,-425.2981 420.0001,-435.2981 427.0001,-435.298\"/>\n</g>\n<!-- 35 -->\n<g id=\"node5\" class=\"node\">\n<title>35</title>\n<path fill=\"#e58139\" stroke=\"#000000\" d=\"M95,-298.5C95,-298.5 12,-298.5 12,-298.5 6,-298.5 0,-292.5 0,-286.5 0,-286.5 0,-242.5 0,-242.5 0,-236.5 6,-230.5 12,-230.5 12,-230.5 95,-230.5 95,-230.5 101,-230.5 107,-236.5 107,-242.5 107,-242.5 107,-286.5 107,-286.5 107,-292.5 101,-298.5 95,-298.5\"/>\n<text text-anchor=\"middle\" x=\"53.5\" y=\"-283.3\" font-family=\"Helvetica,sans-Serif\" font-size=\"14.00\" fill=\"#000000\">entropy = 0.0</text>\n<text text-anchor=\"middle\" x=\"53.5\" y=\"-268.3\" font-family=\"Helvetica,sans-Serif\" font-size=\"14.00\" fill=\"#000000\">samples = 91</text>\n<text text-anchor=\"middle\" x=\"53.5\" y=\"-253.3\" font-family=\"Helvetica,sans-Serif\" font-size=\"14.00\" fill=\"#000000\">value = [91, 0]</text>\n<text text-anchor=\"middle\" x=\"53.5\" y=\"-238.3\" font-family=\"Helvetica,sans-Serif\" font-size=\"14.00\" fill=\"#000000\">class = 0</text>\n</g>\n<!-- 9&#45;&gt;35 -->\n<g id=\"edge4\" class=\"edge\">\n<title>9&#45;&gt;35</title>\n<path fill=\"none\" stroke=\"#000000\" d=\"M136.0816,-341.8796C123.6421,-330.2237 110.1257,-317.5587 97.699,-305.9148\"/>\n<polygon fill=\"#000000\" stroke=\"#000000\" points=\"99.8121,-303.0985 90.1218,-298.8149 95.0259,-308.2065 99.8121,-303.0985\"/>\n</g>\n<!-- 36 -->\n<g id=\"node6\" class=\"node\">\n<title>36</title>\n<path fill=\"#e78c49\" stroke=\"#000000\" d=\"M223.5,-298.5C223.5,-298.5 137.5,-298.5 137.5,-298.5 131.5,-298.5 125.5,-292.5 125.5,-286.5 125.5,-286.5 125.5,-242.5 125.5,-242.5 125.5,-236.5 131.5,-230.5 137.5,-230.5 137.5,-230.5 223.5,-230.5 223.5,-230.5 229.5,-230.5 235.5,-236.5 235.5,-242.5 235.5,-242.5 235.5,-286.5 235.5,-286.5 235.5,-292.5 229.5,-298.5 223.5,-298.5\"/>\n<text text-anchor=\"middle\" x=\"180.5\" y=\"-283.3\" font-family=\"Helvetica,sans-Serif\" font-size=\"14.00\" fill=\"#000000\">entropy = 0.39</text>\n<text text-anchor=\"middle\" x=\"180.5\" y=\"-268.3\" font-family=\"Helvetica,sans-Serif\" font-size=\"14.00\" fill=\"#000000\">samples = 13</text>\n<text text-anchor=\"middle\" x=\"180.5\" y=\"-253.3\" font-family=\"Helvetica,sans-Serif\" font-size=\"14.00\" fill=\"#000000\">value = [12, 1]</text>\n<text text-anchor=\"middle\" x=\"180.5\" y=\"-238.3\" font-family=\"Helvetica,sans-Serif\" font-size=\"14.00\" fill=\"#000000\">class = 0</text>\n</g>\n<!-- 9&#45;&gt;36 -->\n<g id=\"edge5\" class=\"edge\">\n<title>9&#45;&gt;36</title>\n<path fill=\"none\" stroke=\"#000000\" d=\"M180.5,-341.8796C180.5,-331.2134 180.5,-319.7021 180.5,-308.9015\"/>\n<polygon fill=\"#000000\" stroke=\"#000000\" points=\"184.0001,-308.8149 180.5,-298.8149 177.0001,-308.815 184.0001,-308.8149\"/>\n</g>\n<!-- 31 -->\n<g id=\"node8\" class=\"node\">\n<title>31</title>\n<path fill=\"#eca16c\" stroke=\"#000000\" d=\"M373,-306C373,-306 266,-306 266,-306 260,-306 254,-300 254,-294 254,-294 254,-235 254,-235 254,-229 260,-223 266,-223 266,-223 373,-223 373,-223 379,-223 385,-229 385,-235 385,-235 385,-294 385,-294 385,-300 379,-306 373,-306\"/>\n<text text-anchor=\"middle\" x=\"319.5\" y=\"-290.8\" font-family=\"Helvetica,sans-Serif\" font-size=\"14.00\" fill=\"#000000\">Glucose &lt;= 101.5</text>\n<text text-anchor=\"middle\" x=\"319.5\" y=\"-275.8\" font-family=\"Helvetica,sans-Serif\" font-size=\"14.00\" fill=\"#000000\">entropy = 0.73</text>\n<text text-anchor=\"middle\" x=\"319.5\" y=\"-260.8\" font-family=\"Helvetica,sans-Serif\" font-size=\"14.00\" fill=\"#000000\">samples = 59</text>\n<text text-anchor=\"middle\" x=\"319.5\" y=\"-245.8\" font-family=\"Helvetica,sans-Serif\" font-size=\"14.00\" fill=\"#000000\">value = [47, 12]</text>\n<text text-anchor=\"middle\" x=\"319.5\" y=\"-230.8\" font-family=\"Helvetica,sans-Serif\" font-size=\"14.00\" fill=\"#000000\">class = 0</text>\n</g>\n<!-- 10&#45;&gt;31 -->\n<g id=\"edge7\" class=\"edge\">\n<title>10&#45;&gt;31</title>\n<path fill=\"none\" stroke=\"#000000\" d=\"M387.1258,-341.8796C379.2548,-332.8733 370.8571,-323.2644 362.7515,-313.9897\"/>\n<polygon fill=\"#000000\" stroke=\"#000000\" points=\"365.2454,-311.5246 356.0294,-306.2981 359.9746,-316.131 365.2454,-311.5246\"/>\n</g>\n<!-- 32 -->\n<g id=\"node11\" class=\"node\">\n<title>32</title>\n<path fill=\"#e58139\" stroke=\"#000000\" d=\"M498,-298.5C498,-298.5 415,-298.5 415,-298.5 409,-298.5 403,-292.5 403,-286.5 403,-286.5 403,-242.5 403,-242.5 403,-236.5 409,-230.5 415,-230.5 415,-230.5 498,-230.5 498,-230.5 504,-230.5 510,-236.5 510,-242.5 510,-242.5 510,-286.5 510,-286.5 510,-292.5 504,-298.5 498,-298.5\"/>\n<text text-anchor=\"middle\" x=\"456.5\" y=\"-283.3\" font-family=\"Helvetica,sans-Serif\" font-size=\"14.00\" fill=\"#000000\">entropy = 0.0</text>\n<text text-anchor=\"middle\" x=\"456.5\" y=\"-268.3\" font-family=\"Helvetica,sans-Serif\" font-size=\"14.00\" fill=\"#000000\">samples = 12</text>\n<text text-anchor=\"middle\" x=\"456.5\" y=\"-253.3\" font-family=\"Helvetica,sans-Serif\" font-size=\"14.00\" fill=\"#000000\">value = [12, 0]</text>\n<text text-anchor=\"middle\" x=\"456.5\" y=\"-238.3\" font-family=\"Helvetica,sans-Serif\" font-size=\"14.00\" fill=\"#000000\">class = 0</text>\n</g>\n<!-- 10&#45;&gt;32 -->\n<g id=\"edge10\" class=\"edge\">\n<title>10&#45;&gt;32</title>\n<path fill=\"none\" stroke=\"#000000\" d=\"M435.0418,-341.8796C438.0301,-331.1034 441.2577,-319.4647 444.2795,-308.5677\"/>\n<polygon fill=\"#000000\" stroke=\"#000000\" points=\"447.6845,-309.3866 446.9841,-298.8149 440.939,-307.516 447.6845,-309.3866\"/>\n</g>\n<!-- 33 -->\n<g id=\"node9\" class=\"node\">\n<title>33</title>\n<path fill=\"#e89050\" stroke=\"#000000\" d=\"M298.5,-179.5C298.5,-179.5 212.5,-179.5 212.5,-179.5 206.5,-179.5 200.5,-173.5 200.5,-167.5 200.5,-167.5 200.5,-123.5 200.5,-123.5 200.5,-117.5 206.5,-111.5 212.5,-111.5 212.5,-111.5 298.5,-111.5 298.5,-111.5 304.5,-111.5 310.5,-117.5 310.5,-123.5 310.5,-123.5 310.5,-167.5 310.5,-167.5 310.5,-173.5 304.5,-179.5 298.5,-179.5\"/>\n<text text-anchor=\"middle\" x=\"255.5\" y=\"-164.3\" font-family=\"Helvetica,sans-Serif\" font-size=\"14.00\" fill=\"#000000\">entropy = 0.49</text>\n<text text-anchor=\"middle\" x=\"255.5\" y=\"-149.3\" font-family=\"Helvetica,sans-Serif\" font-size=\"14.00\" fill=\"#000000\">samples = 38</text>\n<text text-anchor=\"middle\" x=\"255.5\" y=\"-134.3\" font-family=\"Helvetica,sans-Serif\" font-size=\"14.00\" fill=\"#000000\">value = [34, 4]</text>\n<text text-anchor=\"middle\" x=\"255.5\" y=\"-119.3\" font-family=\"Helvetica,sans-Serif\" font-size=\"14.00\" fill=\"#000000\">class = 0</text>\n</g>\n<!-- 31&#45;&gt;33 -->\n<g id=\"edge8\" class=\"edge\">\n<title>31&#45;&gt;33</title>\n<path fill=\"none\" stroke=\"#000000\" d=\"M297.1159,-222.8796C291.202,-211.8835 284.8051,-199.9893 278.842,-188.9015\"/>\n<polygon fill=\"#000000\" stroke=\"#000000\" points=\"281.7742,-186.9642 273.9551,-179.8149 275.6092,-190.2799 281.7742,-186.9642\"/>\n</g>\n<!-- 34 -->\n<g id=\"node10\" class=\"node\">\n<title>34</title>\n<path fill=\"#f5cfb3\" stroke=\"#000000\" d=\"M426.5,-179.5C426.5,-179.5 340.5,-179.5 340.5,-179.5 334.5,-179.5 328.5,-173.5 328.5,-167.5 328.5,-167.5 328.5,-123.5 328.5,-123.5 328.5,-117.5 334.5,-111.5 340.5,-111.5 340.5,-111.5 426.5,-111.5 426.5,-111.5 432.5,-111.5 438.5,-117.5 438.5,-123.5 438.5,-123.5 438.5,-167.5 438.5,-167.5 438.5,-173.5 432.5,-179.5 426.5,-179.5\"/>\n<text text-anchor=\"middle\" x=\"383.5\" y=\"-164.3\" font-family=\"Helvetica,sans-Serif\" font-size=\"14.00\" fill=\"#000000\">entropy = 0.96</text>\n<text text-anchor=\"middle\" x=\"383.5\" y=\"-149.3\" font-family=\"Helvetica,sans-Serif\" font-size=\"14.00\" fill=\"#000000\">samples = 21</text>\n<text text-anchor=\"middle\" x=\"383.5\" y=\"-134.3\" font-family=\"Helvetica,sans-Serif\" font-size=\"14.00\" fill=\"#000000\">value = [13, 8]</text>\n<text text-anchor=\"middle\" x=\"383.5\" y=\"-119.3\" font-family=\"Helvetica,sans-Serif\" font-size=\"14.00\" fill=\"#000000\">class = 0</text>\n</g>\n<!-- 31&#45;&gt;34 -->\n<g id=\"edge9\" class=\"edge\">\n<title>31&#45;&gt;34</title>\n<path fill=\"none\" stroke=\"#000000\" d=\"M341.8841,-222.8796C347.798,-211.8835 354.1949,-199.9893 360.158,-188.9015\"/>\n<polygon fill=\"#000000\" stroke=\"#000000\" points=\"363.3908,-190.2799 365.0449,-179.8149 357.2258,-186.9642 363.3908,-190.2799\"/>\n</g>\n<!-- 7 -->\n<g id=\"node13\" class=\"node\">\n<title>7</title>\n<path fill=\"#e6853f\" stroke=\"#000000\" d=\"M609.5,-417.5C609.5,-417.5 523.5,-417.5 523.5,-417.5 517.5,-417.5 511.5,-411.5 511.5,-405.5 511.5,-405.5 511.5,-361.5 511.5,-361.5 511.5,-355.5 517.5,-349.5 523.5,-349.5 523.5,-349.5 609.5,-349.5 609.5,-349.5 615.5,-349.5 621.5,-355.5 621.5,-361.5 621.5,-361.5 621.5,-405.5 621.5,-405.5 621.5,-411.5 615.5,-417.5 609.5,-417.5\"/>\n<text text-anchor=\"middle\" x=\"566.5\" y=\"-402.3\" font-family=\"Helvetica,sans-Serif\" font-size=\"14.00\" fill=\"#000000\">entropy = 0.19</text>\n<text text-anchor=\"middle\" x=\"566.5\" y=\"-387.3\" font-family=\"Helvetica,sans-Serif\" font-size=\"14.00\" fill=\"#000000\">samples = 34</text>\n<text text-anchor=\"middle\" x=\"566.5\" y=\"-372.3\" font-family=\"Helvetica,sans-Serif\" font-size=\"14.00\" fill=\"#000000\">value = [33, 1]</text>\n<text text-anchor=\"middle\" x=\"566.5\" y=\"-357.3\" font-family=\"Helvetica,sans-Serif\" font-size=\"14.00\" fill=\"#000000\">class = 0</text>\n</g>\n<!-- 4&#45;&gt;7 -->\n<g id=\"edge12\" class=\"edge\">\n<title>4&#45;&gt;7</title>\n<path fill=\"none\" stroke=\"#000000\" d=\"M632.1751,-460.8796C622.469,-449.4436 611.9384,-437.0363 602.2107,-425.575\"/>\n<polygon fill=\"#000000\" stroke=\"#000000\" points=\"604.7638,-423.1743 595.6244,-417.8149 599.4269,-427.7039 604.7638,-423.1743\"/>\n</g>\n<!-- 8 -->\n<g id=\"node14\" class=\"node\">\n<title>8</title>\n<path fill=\"#f8dbc7\" stroke=\"#000000\" d=\"M751,-425C751,-425 652,-425 652,-425 646,-425 640,-419 640,-413 640,-413 640,-354 640,-354 640,-348 646,-342 652,-342 652,-342 751,-342 751,-342 757,-342 763,-348 763,-354 763,-354 763,-413 763,-413 763,-419 757,-425 751,-425\"/>\n<text text-anchor=\"middle\" x=\"701.5\" y=\"-409.8\" font-family=\"Helvetica,sans-Serif\" font-size=\"14.00\" fill=\"#000000\">Glucose &lt;= 99.5</text>\n<text text-anchor=\"middle\" x=\"701.5\" y=\"-394.8\" font-family=\"Helvetica,sans-Serif\" font-size=\"14.00\" fill=\"#000000\">entropy = 0.98</text>\n<text text-anchor=\"middle\" x=\"701.5\" y=\"-379.8\" font-family=\"Helvetica,sans-Serif\" font-size=\"14.00\" fill=\"#000000\">samples = 134</text>\n<text text-anchor=\"middle\" x=\"701.5\" y=\"-364.8\" font-family=\"Helvetica,sans-Serif\" font-size=\"14.00\" fill=\"#000000\">value = [78, 56]</text>\n<text text-anchor=\"middle\" x=\"701.5\" y=\"-349.8\" font-family=\"Helvetica,sans-Serif\" font-size=\"14.00\" fill=\"#000000\">class = 0</text>\n</g>\n<!-- 4&#45;&gt;8 -->\n<g id=\"edge13\" class=\"edge\">\n<title>4&#45;&gt;8</title>\n<path fill=\"none\" stroke=\"#000000\" d=\"M679.3916,-460.8796C681.7847,-452.5037 684.3267,-443.6067 686.8023,-434.942\"/>\n<polygon fill=\"#000000\" stroke=\"#000000\" points=\"690.1757,-435.8749 689.5577,-425.2981 683.4451,-433.9518 690.1757,-435.8749\"/>\n</g>\n<!-- 15 -->\n<g id=\"node15\" class=\"node\">\n<title>15</title>\n<path fill=\"#eba069\" stroke=\"#000000\" d=\"M626.5,-298.5C626.5,-298.5 540.5,-298.5 540.5,-298.5 534.5,-298.5 528.5,-292.5 528.5,-286.5 528.5,-286.5 528.5,-242.5 528.5,-242.5 528.5,-236.5 534.5,-230.5 540.5,-230.5 540.5,-230.5 626.5,-230.5 626.5,-230.5 632.5,-230.5 638.5,-236.5 638.5,-242.5 638.5,-242.5 638.5,-286.5 638.5,-286.5 638.5,-292.5 632.5,-298.5 626.5,-298.5\"/>\n<text text-anchor=\"middle\" x=\"583.5\" y=\"-283.3\" font-family=\"Helvetica,sans-Serif\" font-size=\"14.00\" fill=\"#000000\">entropy = 0.71</text>\n<text text-anchor=\"middle\" x=\"583.5\" y=\"-268.3\" font-family=\"Helvetica,sans-Serif\" font-size=\"14.00\" fill=\"#000000\">samples = 41</text>\n<text text-anchor=\"middle\" x=\"583.5\" y=\"-253.3\" font-family=\"Helvetica,sans-Serif\" font-size=\"14.00\" fill=\"#000000\">value = [33, 8]</text>\n<text text-anchor=\"middle\" x=\"583.5\" y=\"-238.3\" font-family=\"Helvetica,sans-Serif\" font-size=\"14.00\" fill=\"#000000\">class = 0</text>\n</g>\n<!-- 8&#45;&gt;15 -->\n<g id=\"edge14\" class=\"edge\">\n<title>8&#45;&gt;15</title>\n<path fill=\"none\" stroke=\"#000000\" d=\"M660.2293,-341.8796C648.7805,-330.3337 636.3497,-317.7976 624.8938,-306.2446\"/>\n<polygon fill=\"#000000\" stroke=\"#000000\" points=\"627.0531,-303.4514 617.5266,-298.8149 622.0825,-308.3802 627.0531,-303.4514\"/>\n</g>\n<!-- 16 -->\n<g id=\"node16\" class=\"node\">\n<title>16</title>\n<path fill=\"#f3f9fd\" stroke=\"#000000\" d=\"M878,-306C878,-306 669,-306 669,-306 663,-306 657,-300 657,-294 657,-294 657,-235 657,-235 657,-229 663,-223 669,-223 669,-223 878,-223 878,-223 884,-223 890,-229 890,-235 890,-235 890,-294 890,-294 890,-300 884,-306 878,-306\"/>\n<text text-anchor=\"middle\" x=\"773.5\" y=\"-290.8\" font-family=\"Helvetica,sans-Serif\" font-size=\"14.00\" fill=\"#000000\">DiabetesPedigreeFunction &lt;= 0.2</text>\n<text text-anchor=\"middle\" x=\"773.5\" y=\"-275.8\" font-family=\"Helvetica,sans-Serif\" font-size=\"14.00\" fill=\"#000000\">entropy = 1.0</text>\n<text text-anchor=\"middle\" x=\"773.5\" y=\"-260.8\" font-family=\"Helvetica,sans-Serif\" font-size=\"14.00\" fill=\"#000000\">samples = 93</text>\n<text text-anchor=\"middle\" x=\"773.5\" y=\"-245.8\" font-family=\"Helvetica,sans-Serif\" font-size=\"14.00\" fill=\"#000000\">value = [45, 48]</text>\n<text text-anchor=\"middle\" x=\"773.5\" y=\"-230.8\" font-family=\"Helvetica,sans-Serif\" font-size=\"14.00\" fill=\"#000000\">class = 1</text>\n</g>\n<!-- 8&#45;&gt;16 -->\n<g id=\"edge15\" class=\"edge\">\n<title>8&#45;&gt;16</title>\n<path fill=\"none\" stroke=\"#000000\" d=\"M726.6821,-341.8796C731.9133,-333.2335 737.4805,-324.0322 742.8823,-315.1042\"/>\n<polygon fill=\"#000000\" stroke=\"#000000\" points=\"746.0283,-316.6658 748.2104,-306.2981 740.0392,-313.0421 746.0283,-316.6658\"/>\n</g>\n<!-- 23 -->\n<g id=\"node17\" class=\"node\">\n<title>23</title>\n<path fill=\"#ea985d\" stroke=\"#000000\" d=\"M721.5,-179.5C721.5,-179.5 635.5,-179.5 635.5,-179.5 629.5,-179.5 623.5,-173.5 623.5,-167.5 623.5,-167.5 623.5,-123.5 623.5,-123.5 623.5,-117.5 629.5,-111.5 635.5,-111.5 635.5,-111.5 721.5,-111.5 721.5,-111.5 727.5,-111.5 733.5,-117.5 733.5,-123.5 733.5,-123.5 733.5,-167.5 733.5,-167.5 733.5,-173.5 727.5,-179.5 721.5,-179.5\"/>\n<text text-anchor=\"middle\" x=\"678.5\" y=\"-164.3\" font-family=\"Helvetica,sans-Serif\" font-size=\"14.00\" fill=\"#000000\">entropy = 0.62</text>\n<text text-anchor=\"middle\" x=\"678.5\" y=\"-149.3\" font-family=\"Helvetica,sans-Serif\" font-size=\"14.00\" fill=\"#000000\">samples = 13</text>\n<text text-anchor=\"middle\" x=\"678.5\" y=\"-134.3\" font-family=\"Helvetica,sans-Serif\" font-size=\"14.00\" fill=\"#000000\">value = [11, 2]</text>\n<text text-anchor=\"middle\" x=\"678.5\" y=\"-119.3\" font-family=\"Helvetica,sans-Serif\" font-size=\"14.00\" fill=\"#000000\">class = 0</text>\n</g>\n<!-- 16&#45;&gt;23 -->\n<g id=\"edge16\" class=\"edge\">\n<title>16&#45;&gt;23</title>\n<path fill=\"none\" stroke=\"#000000\" d=\"M740.2736,-222.8796C731.2319,-211.5536 721.4295,-199.2748 712.3534,-187.9058\"/>\n<polygon fill=\"#000000\" stroke=\"#000000\" points=\"714.8685,-185.4464 705.8943,-179.8149 709.398,-189.8137 714.8685,-185.4464\"/>\n</g>\n<!-- 24 -->\n<g id=\"node18\" class=\"node\">\n<title>24</title>\n<path fill=\"#cbe5f8\" stroke=\"#000000\" d=\"M855.5,-179.5C855.5,-179.5 763.5,-179.5 763.5,-179.5 757.5,-179.5 751.5,-173.5 751.5,-167.5 751.5,-167.5 751.5,-123.5 751.5,-123.5 751.5,-117.5 757.5,-111.5 763.5,-111.5 763.5,-111.5 855.5,-111.5 855.5,-111.5 861.5,-111.5 867.5,-117.5 867.5,-123.5 867.5,-123.5 867.5,-167.5 867.5,-167.5 867.5,-173.5 861.5,-179.5 855.5,-179.5\"/>\n<text text-anchor=\"middle\" x=\"809.5\" y=\"-164.3\" font-family=\"Helvetica,sans-Serif\" font-size=\"14.00\" fill=\"#000000\">entropy = 0.98</text>\n<text text-anchor=\"middle\" x=\"809.5\" y=\"-149.3\" font-family=\"Helvetica,sans-Serif\" font-size=\"14.00\" fill=\"#000000\">samples = 80</text>\n<text text-anchor=\"middle\" x=\"809.5\" y=\"-134.3\" font-family=\"Helvetica,sans-Serif\" font-size=\"14.00\" fill=\"#000000\">value = [34, 46]</text>\n<text text-anchor=\"middle\" x=\"809.5\" y=\"-119.3\" font-family=\"Helvetica,sans-Serif\" font-size=\"14.00\" fill=\"#000000\">class = 1</text>\n</g>\n<!-- 16&#45;&gt;24 -->\n<g id=\"edge17\" class=\"edge\">\n<title>16&#45;&gt;24</title>\n<path fill=\"none\" stroke=\"#000000\" d=\"M786.0911,-222.8796C789.3511,-212.1034 792.872,-200.4647 796.1686,-189.5677\"/>\n<polygon fill=\"#000000\" stroke=\"#000000\" points=\"799.5734,-190.4 799.119,-179.8149 792.8733,-188.373 799.5734,-190.4\"/>\n</g>\n<!-- 5 -->\n<g id=\"node20\" class=\"node\">\n<title>5</title>\n<path fill=\"#eead7e\" stroke=\"#000000\" d=\"M935,-544C935,-544 816,-544 816,-544 810,-544 804,-538 804,-532 804,-532 804,-473 804,-473 804,-467 810,-461 816,-461 816,-461 935,-461 935,-461 941,-461 947,-467 947,-473 947,-473 947,-532 947,-532 947,-538 941,-544 935,-544\"/>\n<text text-anchor=\"middle\" x=\"875.5\" y=\"-528.8\" font-family=\"Helvetica,sans-Serif\" font-size=\"14.00\" fill=\"#000000\">Pregnancies &lt;= 1.5</text>\n<text text-anchor=\"middle\" x=\"875.5\" y=\"-513.8\" font-family=\"Helvetica,sans-Serif\" font-size=\"14.00\" fill=\"#000000\">entropy = 0.82</text>\n<text text-anchor=\"middle\" x=\"875.5\" y=\"-498.8\" font-family=\"Helvetica,sans-Serif\" font-size=\"14.00\" fill=\"#000000\">samples = 58</text>\n<text text-anchor=\"middle\" x=\"875.5\" y=\"-483.8\" font-family=\"Helvetica,sans-Serif\" font-size=\"14.00\" fill=\"#000000\">value = [43, 15]</text>\n<text text-anchor=\"middle\" x=\"875.5\" y=\"-468.8\" font-family=\"Helvetica,sans-Serif\" font-size=\"14.00\" fill=\"#000000\">class = 0</text>\n</g>\n<!-- 2&#45;&gt;5 -->\n<g id=\"edge19\" class=\"edge\">\n<title>2&#45;&gt;5</title>\n<path fill=\"none\" stroke=\"#000000\" d=\"M875.5,-579.8796C875.5,-571.6838 875.5,-562.9891 875.5,-554.5013\"/>\n<polygon fill=\"#000000\" stroke=\"#000000\" points=\"879.0001,-554.298 875.5,-544.2981 872.0001,-554.2981 879.0001,-554.298\"/>\n</g>\n<!-- 6 -->\n<g id=\"node27\" class=\"node\">\n<title>6</title>\n<path fill=\"#83c2ef\" stroke=\"#000000\" d=\"M1317,-544C1317,-544 1176,-544 1176,-544 1170,-544 1164,-538 1164,-532 1164,-532 1164,-473 1164,-473 1164,-467 1170,-461 1176,-461 1176,-461 1317,-461 1317,-461 1323,-461 1329,-467 1329,-473 1329,-473 1329,-532 1329,-532 1329,-538 1323,-544 1317,-544\"/>\n<text text-anchor=\"middle\" x=\"1246.5\" y=\"-528.8\" font-family=\"Helvetica,sans-Serif\" font-size=\"14.00\" fill=\"#000000\">BloodPressure &lt;= 61.0</text>\n<text text-anchor=\"middle\" x=\"1246.5\" y=\"-513.8\" font-family=\"Helvetica,sans-Serif\" font-size=\"14.00\" fill=\"#000000\">entropy = 0.84</text>\n<text text-anchor=\"middle\" x=\"1246.5\" y=\"-498.8\" font-family=\"Helvetica,sans-Serif\" font-size=\"14.00\" fill=\"#000000\">samples = 151</text>\n<text text-anchor=\"middle\" x=\"1246.5\" y=\"-483.8\" font-family=\"Helvetica,sans-Serif\" font-size=\"14.00\" fill=\"#000000\">value = [41, 110]</text>\n<text text-anchor=\"middle\" x=\"1246.5\" y=\"-468.8\" font-family=\"Helvetica,sans-Serif\" font-size=\"14.00\" fill=\"#000000\">class = 1</text>\n</g>\n<!-- 2&#45;&gt;6 -->\n<g id=\"edge26\" class=\"edge\">\n<title>2&#45;&gt;6</title>\n<path fill=\"none\" stroke=\"#000000\" d=\"M937.5971,-601.5821C996.7764,-582.6 1086.6228,-553.7814 1154.1879,-532.1096\"/>\n<polygon fill=\"#000000\" stroke=\"#000000\" points=\"1155.5354,-535.353 1163.9885,-528.9659 1153.3973,-528.6875 1155.5354,-535.353\"/>\n</g>\n<!-- 17 -->\n<g id=\"node21\" class=\"node\">\n<title>17</title>\n<path fill=\"#e58139\" stroke=\"#000000\" d=\"M884,-417.5C884,-417.5 801,-417.5 801,-417.5 795,-417.5 789,-411.5 789,-405.5 789,-405.5 789,-361.5 789,-361.5 789,-355.5 795,-349.5 801,-349.5 801,-349.5 884,-349.5 884,-349.5 890,-349.5 896,-355.5 896,-361.5 896,-361.5 896,-405.5 896,-405.5 896,-411.5 890,-417.5 884,-417.5\"/>\n<text text-anchor=\"middle\" x=\"842.5\" y=\"-402.3\" font-family=\"Helvetica,sans-Serif\" font-size=\"14.00\" fill=\"#000000\">entropy = 0.0</text>\n<text text-anchor=\"middle\" x=\"842.5\" y=\"-387.3\" font-family=\"Helvetica,sans-Serif\" font-size=\"14.00\" fill=\"#000000\">samples = 14</text>\n<text text-anchor=\"middle\" x=\"842.5\" y=\"-372.3\" font-family=\"Helvetica,sans-Serif\" font-size=\"14.00\" fill=\"#000000\">value = [14, 0]</text>\n<text text-anchor=\"middle\" x=\"842.5\" y=\"-357.3\" font-family=\"Helvetica,sans-Serif\" font-size=\"14.00\" fill=\"#000000\">class = 0</text>\n</g>\n<!-- 5&#45;&gt;17 -->\n<g id=\"edge20\" class=\"edge\">\n<title>5&#45;&gt;17</title>\n<path fill=\"none\" stroke=\"#000000\" d=\"M863.9582,-460.8796C860.9699,-450.1034 857.7423,-438.4647 854.7205,-427.5677\"/>\n<polygon fill=\"#000000\" stroke=\"#000000\" points=\"858.061,-426.516 852.0159,-417.8149 851.3155,-428.3866 858.061,-426.516\"/>\n</g>\n<!-- 18 -->\n<g id=\"node22\" class=\"node\">\n<title>18</title>\n<path fill=\"#f2c29f\" stroke=\"#000000\" d=\"M1067,-425C1067,-425 926,-425 926,-425 920,-425 914,-419 914,-413 914,-413 914,-354 914,-354 914,-348 920,-342 926,-342 926,-342 1067,-342 1067,-342 1073,-342 1079,-348 1079,-354 1079,-354 1079,-413 1079,-413 1079,-419 1073,-425 1067,-425\"/>\n<text text-anchor=\"middle\" x=\"996.5\" y=\"-409.8\" font-family=\"Helvetica,sans-Serif\" font-size=\"14.00\" fill=\"#000000\">BloodPressure &lt;= 73.0</text>\n<text text-anchor=\"middle\" x=\"996.5\" y=\"-394.8\" font-family=\"Helvetica,sans-Serif\" font-size=\"14.00\" fill=\"#000000\">entropy = 0.93</text>\n<text text-anchor=\"middle\" x=\"996.5\" y=\"-379.8\" font-family=\"Helvetica,sans-Serif\" font-size=\"14.00\" fill=\"#000000\">samples = 44</text>\n<text text-anchor=\"middle\" x=\"996.5\" y=\"-364.8\" font-family=\"Helvetica,sans-Serif\" font-size=\"14.00\" fill=\"#000000\">value = [29, 15]</text>\n<text text-anchor=\"middle\" x=\"996.5\" y=\"-349.8\" font-family=\"Helvetica,sans-Serif\" font-size=\"14.00\" fill=\"#000000\">class = 0</text>\n</g>\n<!-- 5&#45;&gt;18 -->\n<g id=\"edge21\" class=\"edge\">\n<title>5&#45;&gt;18</title>\n<path fill=\"none\" stroke=\"#000000\" d=\"M917.8199,-460.8796C927.1608,-451.6931 937.139,-441.8798 946.744,-432.4336\"/>\n<polygon fill=\"#000000\" stroke=\"#000000\" points=\"949.3238,-434.8054 953.9994,-425.2981 944.4155,-429.8146 949.3238,-434.8054\"/>\n</g>\n<!-- 21 -->\n<g id=\"node23\" class=\"node\">\n<title>21</title>\n<path fill=\"#c9e4f8\" stroke=\"#000000\" d=\"M1006.5,-298.5C1006.5,-298.5 920.5,-298.5 920.5,-298.5 914.5,-298.5 908.5,-292.5 908.5,-286.5 908.5,-286.5 908.5,-242.5 908.5,-242.5 908.5,-236.5 914.5,-230.5 920.5,-230.5 920.5,-230.5 1006.5,-230.5 1006.5,-230.5 1012.5,-230.5 1018.5,-236.5 1018.5,-242.5 1018.5,-242.5 1018.5,-286.5 1018.5,-286.5 1018.5,-292.5 1012.5,-298.5 1006.5,-298.5\"/>\n<text text-anchor=\"middle\" x=\"963.5\" y=\"-283.3\" font-family=\"Helvetica,sans-Serif\" font-size=\"14.00\" fill=\"#000000\">entropy = 0.98</text>\n<text text-anchor=\"middle\" x=\"963.5\" y=\"-268.3\" font-family=\"Helvetica,sans-Serif\" font-size=\"14.00\" fill=\"#000000\">samples = 19</text>\n<text text-anchor=\"middle\" x=\"963.5\" y=\"-253.3\" font-family=\"Helvetica,sans-Serif\" font-size=\"14.00\" fill=\"#000000\">value = [8, 11]</text>\n<text text-anchor=\"middle\" x=\"963.5\" y=\"-238.3\" font-family=\"Helvetica,sans-Serif\" font-size=\"14.00\" fill=\"#000000\">class = 1</text>\n</g>\n<!-- 18&#45;&gt;21 -->\n<g id=\"edge22\" class=\"edge\">\n<title>18&#45;&gt;21</title>\n<path fill=\"none\" stroke=\"#000000\" d=\"M984.9582,-341.8796C981.9699,-331.1034 978.7423,-319.4647 975.7205,-308.5677\"/>\n<polygon fill=\"#000000\" stroke=\"#000000\" points=\"979.061,-307.516 973.0159,-298.8149 972.3155,-309.3866 979.061,-307.516\"/>\n</g>\n<!-- 22 -->\n<g id=\"node24\" class=\"node\">\n<title>22</title>\n<path fill=\"#ea995f\" stroke=\"#000000\" d=\"M1156,-306C1156,-306 1049,-306 1049,-306 1043,-306 1037,-300 1037,-294 1037,-294 1037,-235 1037,-235 1037,-229 1043,-223 1049,-223 1049,-223 1156,-223 1156,-223 1162,-223 1168,-229 1168,-235 1168,-235 1168,-294 1168,-294 1168,-300 1162,-306 1156,-306\"/>\n<text text-anchor=\"middle\" x=\"1102.5\" y=\"-290.8\" font-family=\"Helvetica,sans-Serif\" font-size=\"14.00\" fill=\"#000000\">Glucose &lt;= 148.5</text>\n<text text-anchor=\"middle\" x=\"1102.5\" y=\"-275.8\" font-family=\"Helvetica,sans-Serif\" font-size=\"14.00\" fill=\"#000000\">entropy = 0.63</text>\n<text text-anchor=\"middle\" x=\"1102.5\" y=\"-260.8\" font-family=\"Helvetica,sans-Serif\" font-size=\"14.00\" fill=\"#000000\">samples = 25</text>\n<text text-anchor=\"middle\" x=\"1102.5\" y=\"-245.8\" font-family=\"Helvetica,sans-Serif\" font-size=\"14.00\" fill=\"#000000\">value = [21, 4]</text>\n<text text-anchor=\"middle\" x=\"1102.5\" y=\"-230.8\" font-family=\"Helvetica,sans-Serif\" font-size=\"14.00\" fill=\"#000000\">class = 0</text>\n</g>\n<!-- 18&#45;&gt;22 -->\n<g id=\"edge23\" class=\"edge\">\n<title>18&#45;&gt;22</title>\n<path fill=\"none\" stroke=\"#000000\" d=\"M1033.5737,-341.8796C1041.5961,-332.8733 1050.1552,-323.2644 1058.4167,-313.9897\"/>\n<polygon fill=\"#000000\" stroke=\"#000000\" points=\"1061.2302,-316.0933 1065.2681,-306.2981 1056.0031,-311.4373 1061.2302,-316.0933\"/>\n</g>\n<!-- 25 -->\n<g id=\"node25\" class=\"node\">\n<title>25</title>\n<path fill=\"#e58139\" stroke=\"#000000\" d=\"M1017,-179.5C1017,-179.5 934,-179.5 934,-179.5 928,-179.5 922,-173.5 922,-167.5 922,-167.5 922,-123.5 922,-123.5 922,-117.5 928,-111.5 934,-111.5 934,-111.5 1017,-111.5 1017,-111.5 1023,-111.5 1029,-117.5 1029,-123.5 1029,-123.5 1029,-167.5 1029,-167.5 1029,-173.5 1023,-179.5 1017,-179.5\"/>\n<text text-anchor=\"middle\" x=\"975.5\" y=\"-164.3\" font-family=\"Helvetica,sans-Serif\" font-size=\"14.00\" fill=\"#000000\">entropy = 0.0</text>\n<text text-anchor=\"middle\" x=\"975.5\" y=\"-149.3\" font-family=\"Helvetica,sans-Serif\" font-size=\"14.00\" fill=\"#000000\">samples = 15</text>\n<text text-anchor=\"middle\" x=\"975.5\" y=\"-134.3\" font-family=\"Helvetica,sans-Serif\" font-size=\"14.00\" fill=\"#000000\">value = [15, 0]</text>\n<text text-anchor=\"middle\" x=\"975.5\" y=\"-119.3\" font-family=\"Helvetica,sans-Serif\" font-size=\"14.00\" fill=\"#000000\">class = 0</text>\n</g>\n<!-- 22&#45;&gt;25 -->\n<g id=\"edge24\" class=\"edge\">\n<title>22&#45;&gt;25</title>\n<path fill=\"none\" stroke=\"#000000\" d=\"M1058.0816,-222.8796C1045.6421,-211.2237 1032.1257,-198.5587 1019.699,-186.9148\"/>\n<polygon fill=\"#000000\" stroke=\"#000000\" points=\"1021.8121,-184.0985 1012.1218,-179.8149 1017.0259,-189.2065 1021.8121,-184.0985\"/>\n</g>\n<!-- 26 -->\n<g id=\"node26\" class=\"node\">\n<title>26</title>\n<path fill=\"#f6d5bd\" stroke=\"#000000\" d=\"M1145.5,-179.5C1145.5,-179.5 1059.5,-179.5 1059.5,-179.5 1053.5,-179.5 1047.5,-173.5 1047.5,-167.5 1047.5,-167.5 1047.5,-123.5 1047.5,-123.5 1047.5,-117.5 1053.5,-111.5 1059.5,-111.5 1059.5,-111.5 1145.5,-111.5 1145.5,-111.5 1151.5,-111.5 1157.5,-117.5 1157.5,-123.5 1157.5,-123.5 1157.5,-167.5 1157.5,-167.5 1157.5,-173.5 1151.5,-179.5 1145.5,-179.5\"/>\n<text text-anchor=\"middle\" x=\"1102.5\" y=\"-164.3\" font-family=\"Helvetica,sans-Serif\" font-size=\"14.00\" fill=\"#000000\">entropy = 0.97</text>\n<text text-anchor=\"middle\" x=\"1102.5\" y=\"-149.3\" font-family=\"Helvetica,sans-Serif\" font-size=\"14.00\" fill=\"#000000\">samples = 10</text>\n<text text-anchor=\"middle\" x=\"1102.5\" y=\"-134.3\" font-family=\"Helvetica,sans-Serif\" font-size=\"14.00\" fill=\"#000000\">value = [6, 4]</text>\n<text text-anchor=\"middle\" x=\"1102.5\" y=\"-119.3\" font-family=\"Helvetica,sans-Serif\" font-size=\"14.00\" fill=\"#000000\">class = 0</text>\n</g>\n<!-- 22&#45;&gt;26 -->\n<g id=\"edge25\" class=\"edge\">\n<title>22&#45;&gt;26</title>\n<path fill=\"none\" stroke=\"#000000\" d=\"M1102.5,-222.8796C1102.5,-212.2134 1102.5,-200.7021 1102.5,-189.9015\"/>\n<polygon fill=\"#000000\" stroke=\"#000000\" points=\"1106.0001,-189.8149 1102.5,-179.8149 1099.0001,-189.815 1106.0001,-189.8149\"/>\n</g>\n<!-- 11 -->\n<g id=\"node28\" class=\"node\">\n<title>11</title>\n<path fill=\"#399de5\" stroke=\"#000000\" d=\"M1288,-417.5C1288,-417.5 1205,-417.5 1205,-417.5 1199,-417.5 1193,-411.5 1193,-405.5 1193,-405.5 1193,-361.5 1193,-361.5 1193,-355.5 1199,-349.5 1205,-349.5 1205,-349.5 1288,-349.5 1288,-349.5 1294,-349.5 1300,-355.5 1300,-361.5 1300,-361.5 1300,-405.5 1300,-405.5 1300,-411.5 1294,-417.5 1288,-417.5\"/>\n<text text-anchor=\"middle\" x=\"1246.5\" y=\"-402.3\" font-family=\"Helvetica,sans-Serif\" font-size=\"14.00\" fill=\"#000000\">entropy = 0.0</text>\n<text text-anchor=\"middle\" x=\"1246.5\" y=\"-387.3\" font-family=\"Helvetica,sans-Serif\" font-size=\"14.00\" fill=\"#000000\">samples = 19</text>\n<text text-anchor=\"middle\" x=\"1246.5\" y=\"-372.3\" font-family=\"Helvetica,sans-Serif\" font-size=\"14.00\" fill=\"#000000\">value = [0, 19]</text>\n<text text-anchor=\"middle\" x=\"1246.5\" y=\"-357.3\" font-family=\"Helvetica,sans-Serif\" font-size=\"14.00\" fill=\"#000000\">class = 1</text>\n</g>\n<!-- 6&#45;&gt;11 -->\n<g id=\"edge27\" class=\"edge\">\n<title>6&#45;&gt;11</title>\n<path fill=\"none\" stroke=\"#000000\" d=\"M1246.5,-460.8796C1246.5,-450.2134 1246.5,-438.7021 1246.5,-427.9015\"/>\n<polygon fill=\"#000000\" stroke=\"#000000\" points=\"1250.0001,-427.8149 1246.5,-417.8149 1243.0001,-427.815 1250.0001,-427.8149\"/>\n</g>\n<!-- 12 -->\n<g id=\"node29\" class=\"node\">\n<title>12</title>\n<path fill=\"#92c9f1\" stroke=\"#000000\" d=\"M1469,-425C1469,-425 1362,-425 1362,-425 1356,-425 1350,-419 1350,-413 1350,-413 1350,-354 1350,-354 1350,-348 1356,-342 1362,-342 1362,-342 1469,-342 1469,-342 1475,-342 1481,-348 1481,-354 1481,-354 1481,-413 1481,-413 1481,-419 1475,-425 1469,-425\"/>\n<text text-anchor=\"middle\" x=\"1415.5\" y=\"-409.8\" font-family=\"Helvetica,sans-Serif\" font-size=\"14.00\" fill=\"#000000\">Glucose &lt;= 155.5</text>\n<text text-anchor=\"middle\" x=\"1415.5\" y=\"-394.8\" font-family=\"Helvetica,sans-Serif\" font-size=\"14.00\" fill=\"#000000\">entropy = 0.89</text>\n<text text-anchor=\"middle\" x=\"1415.5\" y=\"-379.8\" font-family=\"Helvetica,sans-Serif\" font-size=\"14.00\" fill=\"#000000\">samples = 132</text>\n<text text-anchor=\"middle\" x=\"1415.5\" y=\"-364.8\" font-family=\"Helvetica,sans-Serif\" font-size=\"14.00\" fill=\"#000000\">value = [41, 91]</text>\n<text text-anchor=\"middle\" x=\"1415.5\" y=\"-349.8\" font-family=\"Helvetica,sans-Serif\" font-size=\"14.00\" fill=\"#000000\">class = 1</text>\n</g>\n<!-- 6&#45;&gt;12 -->\n<g id=\"edge28\" class=\"edge\">\n<title>6&#45;&gt;12</title>\n<path fill=\"none\" stroke=\"#000000\" d=\"M1305.608,-460.8796C1319.3734,-451.1868 1334.1299,-440.7961 1348.2193,-430.8752\"/>\n<polygon fill=\"#000000\" stroke=\"#000000\" points=\"1350.2641,-433.716 1356.4254,-425.0969 1346.2339,-427.9926 1350.2641,-433.716\"/>\n</g>\n<!-- 13 -->\n<g id=\"node30\" class=\"node\">\n<title>13</title>\n<path fill=\"#e0f0fb\" stroke=\"#000000\" d=\"M1461.5,-306C1461.5,-306 1369.5,-306 1369.5,-306 1363.5,-306 1357.5,-300 1357.5,-294 1357.5,-294 1357.5,-235 1357.5,-235 1357.5,-229 1363.5,-223 1369.5,-223 1369.5,-223 1461.5,-223 1461.5,-223 1467.5,-223 1473.5,-229 1473.5,-235 1473.5,-235 1473.5,-294 1473.5,-294 1473.5,-300 1467.5,-306 1461.5,-306\"/>\n<text text-anchor=\"middle\" x=\"1415.5\" y=\"-290.8\" font-family=\"Helvetica,sans-Serif\" font-size=\"14.00\" fill=\"#000000\">Age &lt;= 30.5</text>\n<text text-anchor=\"middle\" x=\"1415.5\" y=\"-275.8\" font-family=\"Helvetica,sans-Serif\" font-size=\"14.00\" fill=\"#000000\">entropy = 0.99</text>\n<text text-anchor=\"middle\" x=\"1415.5\" y=\"-260.8\" font-family=\"Helvetica,sans-Serif\" font-size=\"14.00\" fill=\"#000000\">samples = 70</text>\n<text text-anchor=\"middle\" x=\"1415.5\" y=\"-245.8\" font-family=\"Helvetica,sans-Serif\" font-size=\"14.00\" fill=\"#000000\">value = [32, 38]</text>\n<text text-anchor=\"middle\" x=\"1415.5\" y=\"-230.8\" font-family=\"Helvetica,sans-Serif\" font-size=\"14.00\" fill=\"#000000\">class = 1</text>\n</g>\n<!-- 12&#45;&gt;13 -->\n<g id=\"edge29\" class=\"edge\">\n<title>12&#45;&gt;13</title>\n<path fill=\"none\" stroke=\"#000000\" d=\"M1415.5,-341.8796C1415.5,-333.6838 1415.5,-324.9891 1415.5,-316.5013\"/>\n<polygon fill=\"#000000\" stroke=\"#000000\" points=\"1419.0001,-316.298 1415.5,-306.2981 1412.0001,-316.2981 1419.0001,-316.298\"/>\n</g>\n<!-- 14 -->\n<g id=\"node37\" class=\"node\">\n<title>14</title>\n<path fill=\"#5baee9\" stroke=\"#000000\" d=\"M1693,-306C1693,-306 1586,-306 1586,-306 1580,-306 1574,-300 1574,-294 1574,-294 1574,-235 1574,-235 1574,-229 1580,-223 1586,-223 1586,-223 1693,-223 1693,-223 1699,-223 1705,-229 1705,-235 1705,-235 1705,-294 1705,-294 1705,-300 1699,-306 1693,-306\"/>\n<text text-anchor=\"middle\" x=\"1639.5\" y=\"-290.8\" font-family=\"Helvetica,sans-Serif\" font-size=\"14.00\" fill=\"#000000\">Glucose &lt;= 163.5</text>\n<text text-anchor=\"middle\" x=\"1639.5\" y=\"-275.8\" font-family=\"Helvetica,sans-Serif\" font-size=\"14.00\" fill=\"#000000\">entropy = 0.6</text>\n<text text-anchor=\"middle\" x=\"1639.5\" y=\"-260.8\" font-family=\"Helvetica,sans-Serif\" font-size=\"14.00\" fill=\"#000000\">samples = 62</text>\n<text text-anchor=\"middle\" x=\"1639.5\" y=\"-245.8\" font-family=\"Helvetica,sans-Serif\" font-size=\"14.00\" fill=\"#000000\">value = [9, 53]</text>\n<text text-anchor=\"middle\" x=\"1639.5\" y=\"-230.8\" font-family=\"Helvetica,sans-Serif\" font-size=\"14.00\" fill=\"#000000\">class = 1</text>\n</g>\n<!-- 12&#45;&gt;14 -->\n<g id=\"edge36\" class=\"edge\">\n<title>12&#45;&gt;14</title>\n<path fill=\"none\" stroke=\"#000000\" d=\"M1481.1939,-348.6001C1507.4059,-334.675 1537.725,-318.5679 1564.7713,-304.1996\"/>\n<polygon fill=\"#000000\" stroke=\"#000000\" points=\"1566.6182,-307.1818 1573.8073,-299.3992 1563.3341,-300.9999 1566.6182,-307.1818\"/>\n</g>\n<!-- 19 -->\n<g id=\"node31\" class=\"node\">\n<title>19</title>\n<path fill=\"#f2c09c\" stroke=\"#000000\" d=\"M1295,-187C1295,-187 1188,-187 1188,-187 1182,-187 1176,-181 1176,-175 1176,-175 1176,-116 1176,-116 1176,-110 1182,-104 1188,-104 1188,-104 1295,-104 1295,-104 1301,-104 1307,-110 1307,-116 1307,-116 1307,-175 1307,-175 1307,-181 1301,-187 1295,-187\"/>\n<text text-anchor=\"middle\" x=\"1241.5\" y=\"-171.8\" font-family=\"Helvetica,sans-Serif\" font-size=\"14.00\" fill=\"#000000\">Glucose &lt;= 142.5</text>\n<text text-anchor=\"middle\" x=\"1241.5\" y=\"-156.8\" font-family=\"Helvetica,sans-Serif\" font-size=\"14.00\" fill=\"#000000\">entropy = 0.92</text>\n<text text-anchor=\"middle\" x=\"1241.5\" y=\"-141.8\" font-family=\"Helvetica,sans-Serif\" font-size=\"14.00\" fill=\"#000000\">samples = 30</text>\n<text text-anchor=\"middle\" x=\"1241.5\" y=\"-126.8\" font-family=\"Helvetica,sans-Serif\" font-size=\"14.00\" fill=\"#000000\">value = [20, 10]</text>\n<text text-anchor=\"middle\" x=\"1241.5\" y=\"-111.8\" font-family=\"Helvetica,sans-Serif\" font-size=\"14.00\" fill=\"#000000\">class = 0</text>\n</g>\n<!-- 13&#45;&gt;19 -->\n<g id=\"edge30\" class=\"edge\">\n<title>13&#45;&gt;19</title>\n<path fill=\"none\" stroke=\"#000000\" d=\"M1357.0765,-224.5437C1342.2487,-214.4029 1326.1752,-203.41 1310.8625,-192.9376\"/>\n<polygon fill=\"#000000\" stroke=\"#000000\" points=\"1312.6766,-189.938 1302.4465,-187.1818 1308.7249,-195.716 1312.6766,-189.938\"/>\n</g>\n<!-- 20 -->\n<g id=\"node34\" class=\"node\">\n<title>20</title>\n<path fill=\"#8ec7f0\" stroke=\"#000000\" d=\"M1555.5,-187C1555.5,-187 1337.5,-187 1337.5,-187 1331.5,-187 1325.5,-181 1325.5,-175 1325.5,-175 1325.5,-116 1325.5,-116 1325.5,-110 1331.5,-104 1337.5,-104 1337.5,-104 1555.5,-104 1555.5,-104 1561.5,-104 1567.5,-110 1567.5,-116 1567.5,-116 1567.5,-175 1567.5,-175 1567.5,-181 1561.5,-187 1555.5,-187\"/>\n<text text-anchor=\"middle\" x=\"1446.5\" y=\"-171.8\" font-family=\"Helvetica,sans-Serif\" font-size=\"14.00\" fill=\"#000000\">DiabetesPedigreeFunction &lt;= 0.44</text>\n<text text-anchor=\"middle\" x=\"1446.5\" y=\"-156.8\" font-family=\"Helvetica,sans-Serif\" font-size=\"14.00\" fill=\"#000000\">entropy = 0.88</text>\n<text text-anchor=\"middle\" x=\"1446.5\" y=\"-141.8\" font-family=\"Helvetica,sans-Serif\" font-size=\"14.00\" fill=\"#000000\">samples = 40</text>\n<text text-anchor=\"middle\" x=\"1446.5\" y=\"-126.8\" font-family=\"Helvetica,sans-Serif\" font-size=\"14.00\" fill=\"#000000\">value = [12, 28]</text>\n<text text-anchor=\"middle\" x=\"1446.5\" y=\"-111.8\" font-family=\"Helvetica,sans-Serif\" font-size=\"14.00\" fill=\"#000000\">class = 1</text>\n</g>\n<!-- 13&#45;&gt;20 -->\n<g id=\"edge33\" class=\"edge\">\n<title>13&#45;&gt;20</title>\n<path fill=\"none\" stroke=\"#000000\" d=\"M1426.3423,-222.8796C1428.5008,-214.5938 1430.7921,-205.798 1433.0263,-197.2216\"/>\n<polygon fill=\"#000000\" stroke=\"#000000\" points=\"1436.4774,-197.8575 1435.6114,-187.2981 1429.7035,-196.0928 1436.4774,-197.8575\"/>\n</g>\n<!-- 27 -->\n<g id=\"node32\" class=\"node\">\n<title>27</title>\n<path fill=\"#fcf2eb\" stroke=\"#000000\" d=\"M1176,-68C1176,-68 1093,-68 1093,-68 1087,-68 1081,-62 1081,-56 1081,-56 1081,-12 1081,-12 1081,-6 1087,0 1093,0 1093,0 1176,0 1176,0 1182,0 1188,-6 1188,-12 1188,-12 1188,-56 1188,-56 1188,-62 1182,-68 1176,-68\"/>\n<text text-anchor=\"middle\" x=\"1134.5\" y=\"-52.8\" font-family=\"Helvetica,sans-Serif\" font-size=\"14.00\" fill=\"#000000\">entropy = 1.0</text>\n<text text-anchor=\"middle\" x=\"1134.5\" y=\"-37.8\" font-family=\"Helvetica,sans-Serif\" font-size=\"14.00\" fill=\"#000000\">samples = 19</text>\n<text text-anchor=\"middle\" x=\"1134.5\" y=\"-22.8\" font-family=\"Helvetica,sans-Serif\" font-size=\"14.00\" fill=\"#000000\">value = [10, 9]</text>\n<text text-anchor=\"middle\" x=\"1134.5\" y=\"-7.8\" font-family=\"Helvetica,sans-Serif\" font-size=\"14.00\" fill=\"#000000\">class = 0</text>\n</g>\n<!-- 19&#45;&gt;27 -->\n<g id=\"edge31\" class=\"edge\">\n<title>19&#45;&gt;27</title>\n<path fill=\"none\" stroke=\"#000000\" d=\"M1201.6571,-103.9815C1192.7492,-94.6989 1183.2999,-84.8522 1174.3901,-75.5677\"/>\n<polygon fill=\"#000000\" stroke=\"#000000\" points=\"1176.8302,-73.0555 1167.3808,-68.2637 1171.7795,-77.9023 1176.8302,-73.0555\"/>\n</g>\n<!-- 28 -->\n<g id=\"node33\" class=\"node\">\n<title>28</title>\n<path fill=\"#e88e4d\" stroke=\"#000000\" d=\"M1304.5,-68C1304.5,-68 1218.5,-68 1218.5,-68 1212.5,-68 1206.5,-62 1206.5,-56 1206.5,-56 1206.5,-12 1206.5,-12 1206.5,-6 1212.5,0 1218.5,0 1218.5,0 1304.5,0 1304.5,0 1310.5,0 1316.5,-6 1316.5,-12 1316.5,-12 1316.5,-56 1316.5,-56 1316.5,-62 1310.5,-68 1304.5,-68\"/>\n<text text-anchor=\"middle\" x=\"1261.5\" y=\"-52.8\" font-family=\"Helvetica,sans-Serif\" font-size=\"14.00\" fill=\"#000000\">entropy = 0.44</text>\n<text text-anchor=\"middle\" x=\"1261.5\" y=\"-37.8\" font-family=\"Helvetica,sans-Serif\" font-size=\"14.00\" fill=\"#000000\">samples = 11</text>\n<text text-anchor=\"middle\" x=\"1261.5\" y=\"-22.8\" font-family=\"Helvetica,sans-Serif\" font-size=\"14.00\" fill=\"#000000\">value = [10, 1]</text>\n<text text-anchor=\"middle\" x=\"1261.5\" y=\"-7.8\" font-family=\"Helvetica,sans-Serif\" font-size=\"14.00\" fill=\"#000000\">class = 0</text>\n</g>\n<!-- 19&#45;&gt;28 -->\n<g id=\"edge32\" class=\"edge\">\n<title>19&#45;&gt;28</title>\n<path fill=\"none\" stroke=\"#000000\" d=\"M1248.9473,-103.9815C1250.4474,-95.618 1252.0298,-86.7965 1253.5465,-78.3409\"/>\n<polygon fill=\"#000000\" stroke=\"#000000\" points=\"1257.0334,-78.7246 1255.354,-68.2637 1250.1434,-77.4886 1257.0334,-78.7246\"/>\n</g>\n<!-- 37 -->\n<g id=\"node35\" class=\"node\">\n<title>37</title>\n<path fill=\"#e9f4fc\" stroke=\"#000000\" d=\"M1466.5,-68C1466.5,-68 1386.5,-68 1386.5,-68 1380.5,-68 1374.5,-62 1374.5,-56 1374.5,-56 1374.5,-12 1374.5,-12 1374.5,-6 1380.5,0 1386.5,0 1386.5,0 1466.5,0 1466.5,0 1472.5,0 1478.5,-6 1478.5,-12 1478.5,-12 1478.5,-56 1478.5,-56 1478.5,-62 1472.5,-68 1466.5,-68\"/>\n<text text-anchor=\"middle\" x=\"1426.5\" y=\"-52.8\" font-family=\"Helvetica,sans-Serif\" font-size=\"14.00\" fill=\"#000000\">entropy = 1.0</text>\n<text text-anchor=\"middle\" x=\"1426.5\" y=\"-37.8\" font-family=\"Helvetica,sans-Serif\" font-size=\"14.00\" fill=\"#000000\">samples = 17</text>\n<text text-anchor=\"middle\" x=\"1426.5\" y=\"-22.8\" font-family=\"Helvetica,sans-Serif\" font-size=\"14.00\" fill=\"#000000\">value = [8, 9]</text>\n<text text-anchor=\"middle\" x=\"1426.5\" y=\"-7.8\" font-family=\"Helvetica,sans-Serif\" font-size=\"14.00\" fill=\"#000000\">class = 1</text>\n</g>\n<!-- 20&#45;&gt;37 -->\n<g id=\"edge34\" class=\"edge\">\n<title>20&#45;&gt;37</title>\n<path fill=\"none\" stroke=\"#000000\" d=\"M1439.0527,-103.9815C1437.5526,-95.618 1435.9702,-86.7965 1434.4535,-78.3409\"/>\n<polygon fill=\"#000000\" stroke=\"#000000\" points=\"1437.8566,-77.4886 1432.646,-68.2637 1430.9666,-78.7246 1437.8566,-77.4886\"/>\n</g>\n<!-- 38 -->\n<g id=\"node36\" class=\"node\">\n<title>38</title>\n<path fill=\"#63b2ea\" stroke=\"#000000\" d=\"M1594.5,-68C1594.5,-68 1508.5,-68 1508.5,-68 1502.5,-68 1496.5,-62 1496.5,-56 1496.5,-56 1496.5,-12 1496.5,-12 1496.5,-6 1502.5,0 1508.5,0 1508.5,0 1594.5,0 1594.5,0 1600.5,0 1606.5,-6 1606.5,-12 1606.5,-12 1606.5,-56 1606.5,-56 1606.5,-62 1600.5,-68 1594.5,-68\"/>\n<text text-anchor=\"middle\" x=\"1551.5\" y=\"-52.8\" font-family=\"Helvetica,sans-Serif\" font-size=\"14.00\" fill=\"#000000\">entropy = 0.67</text>\n<text text-anchor=\"middle\" x=\"1551.5\" y=\"-37.8\" font-family=\"Helvetica,sans-Serif\" font-size=\"14.00\" fill=\"#000000\">samples = 23</text>\n<text text-anchor=\"middle\" x=\"1551.5\" y=\"-22.8\" font-family=\"Helvetica,sans-Serif\" font-size=\"14.00\" fill=\"#000000\">value = [4, 19]</text>\n<text text-anchor=\"middle\" x=\"1551.5\" y=\"-7.8\" font-family=\"Helvetica,sans-Serif\" font-size=\"14.00\" fill=\"#000000\">class = 1</text>\n</g>\n<!-- 20&#45;&gt;38 -->\n<g id=\"edge35\" class=\"edge\">\n<title>20&#45;&gt;38</title>\n<path fill=\"none\" stroke=\"#000000\" d=\"M1485.5981,-103.9815C1494.3396,-94.6989 1503.6122,-84.8522 1512.3556,-75.5677\"/>\n<polygon fill=\"#000000\" stroke=\"#000000\" points=\"1514.9261,-77.9433 1519.2338,-68.2637 1509.83,-73.1443 1514.9261,-77.9433\"/>\n</g>\n<!-- 29 -->\n<g id=\"node38\" class=\"node\">\n<title>29</title>\n<path fill=\"#399de5\" stroke=\"#000000\" d=\"M1681,-179.5C1681,-179.5 1598,-179.5 1598,-179.5 1592,-179.5 1586,-173.5 1586,-167.5 1586,-167.5 1586,-123.5 1586,-123.5 1586,-117.5 1592,-111.5 1598,-111.5 1598,-111.5 1681,-111.5 1681,-111.5 1687,-111.5 1693,-117.5 1693,-123.5 1693,-123.5 1693,-167.5 1693,-167.5 1693,-173.5 1687,-179.5 1681,-179.5\"/>\n<text text-anchor=\"middle\" x=\"1639.5\" y=\"-164.3\" font-family=\"Helvetica,sans-Serif\" font-size=\"14.00\" fill=\"#000000\">entropy = 0.0</text>\n<text text-anchor=\"middle\" x=\"1639.5\" y=\"-149.3\" font-family=\"Helvetica,sans-Serif\" font-size=\"14.00\" fill=\"#000000\">samples = 14</text>\n<text text-anchor=\"middle\" x=\"1639.5\" y=\"-134.3\" font-family=\"Helvetica,sans-Serif\" font-size=\"14.00\" fill=\"#000000\">value = [0, 14]</text>\n<text text-anchor=\"middle\" x=\"1639.5\" y=\"-119.3\" font-family=\"Helvetica,sans-Serif\" font-size=\"14.00\" fill=\"#000000\">class = 1</text>\n</g>\n<!-- 14&#45;&gt;29 -->\n<g id=\"edge37\" class=\"edge\">\n<title>14&#45;&gt;29</title>\n<path fill=\"none\" stroke=\"#000000\" d=\"M1639.5,-222.8796C1639.5,-212.2134 1639.5,-200.7021 1639.5,-189.9015\"/>\n<polygon fill=\"#000000\" stroke=\"#000000\" points=\"1643.0001,-189.8149 1639.5,-179.8149 1636.0001,-189.815 1643.0001,-189.8149\"/>\n</g>\n<!-- 30 -->\n<g id=\"node39\" class=\"node\">\n<title>30</title>\n<path fill=\"#67b4eb\" stroke=\"#000000\" d=\"M1806,-179.5C1806,-179.5 1723,-179.5 1723,-179.5 1717,-179.5 1711,-173.5 1711,-167.5 1711,-167.5 1711,-123.5 1711,-123.5 1711,-117.5 1717,-111.5 1723,-111.5 1723,-111.5 1806,-111.5 1806,-111.5 1812,-111.5 1818,-117.5 1818,-123.5 1818,-123.5 1818,-167.5 1818,-167.5 1818,-173.5 1812,-179.5 1806,-179.5\"/>\n<text text-anchor=\"middle\" x=\"1764.5\" y=\"-164.3\" font-family=\"Helvetica,sans-Serif\" font-size=\"14.00\" fill=\"#000000\">entropy = 0.7</text>\n<text text-anchor=\"middle\" x=\"1764.5\" y=\"-149.3\" font-family=\"Helvetica,sans-Serif\" font-size=\"14.00\" fill=\"#000000\">samples = 48</text>\n<text text-anchor=\"middle\" x=\"1764.5\" y=\"-134.3\" font-family=\"Helvetica,sans-Serif\" font-size=\"14.00\" fill=\"#000000\">value = [9, 39]</text>\n<text text-anchor=\"middle\" x=\"1764.5\" y=\"-119.3\" font-family=\"Helvetica,sans-Serif\" font-size=\"14.00\" fill=\"#000000\">class = 1</text>\n</g>\n<!-- 14&#45;&gt;30 -->\n<g id=\"edge38\" class=\"edge\">\n<title>14&#45;&gt;30</title>\n<path fill=\"none\" stroke=\"#000000\" d=\"M1683.2189,-222.8796C1695.4625,-211.2237 1708.7661,-198.5587 1720.9971,-186.9148\"/>\n<polygon fill=\"#000000\" stroke=\"#000000\" points=\"1723.6254,-189.245 1728.4549,-179.8149 1718.7988,-184.1751 1723.6254,-189.245\"/>\n</g>\n</g>\n</svg>\n"
          },
          "metadata": {},
          "execution_count": 43
        }
      ]
    },
    {
      "cell_type": "markdown",
      "metadata": {
        "id": "sG1uVz4vXdJC"
      },
      "source": [
        "Выводим глубину дерева:"
      ]
    },
    {
      "cell_type": "code",
      "metadata": {
        "colab": {
          "base_uri": "https://localhost:8080/"
        },
        "id": "One4o2aLXdJC",
        "outputId": "906fbbb1-3c47-42c4-c8a9-8c0181163888"
      },
      "source": [
        "clf.tree_.max_depth"
      ],
      "execution_count": 44,
      "outputs": [
        {
          "output_type": "execute_result",
          "data": {
            "text/plain": [
              "6"
            ]
          },
          "metadata": {},
          "execution_count": 44
        }
      ]
    },
    {
      "cell_type": "markdown",
      "metadata": {
        "id": "Psv-4a5uXdJD"
      },
      "source": [
        "Выполняем предсказание для объектов из тестовой выборки:"
      ]
    },
    {
      "cell_type": "code",
      "metadata": {
        "id": "NXTOFySYXdJD"
      },
      "source": [
        "features = list(test.columns[:8])\n",
        "x = test[features]\n",
        "y_true = test['Outcome']\n",
        "y_pred = clf.predict(x)"
      ],
      "execution_count": 45,
      "outputs": []
    },
    {
      "cell_type": "markdown",
      "metadata": {
        "id": "ltl9_fW3XdJD"
      },
      "source": [
        "Доля правильных ответов классификатора:"
      ]
    },
    {
      "cell_type": "code",
      "metadata": {
        "colab": {
          "base_uri": "https://localhost:8080/"
        },
        "id": "Pcdp3eh_XdJD",
        "outputId": "849aa429-ce03-4968-b370-a861865c1c9e"
      },
      "source": [
        "from sklearn.metrics import accuracy_score\n",
        "accuracy_score(y_true, y_pred)"
      ],
      "execution_count": 46,
      "outputs": [
        {
          "output_type": "execute_result",
          "data": {
            "text/plain": [
              "0.7898550724637681"
            ]
          },
          "metadata": {},
          "execution_count": 46
        }
      ]
    },
    {
      "cell_type": "markdown",
      "metadata": {
        "id": "pd6Vz8ozXdJE"
      },
      "source": [
        "Среднее значение метрик $F_1$ (Macro-F1):"
      ]
    },
    {
      "cell_type": "code",
      "metadata": {
        "colab": {
          "base_uri": "https://localhost:8080/"
        },
        "id": "L-kFWIDUXdJE",
        "outputId": "48637e3b-aab1-40d3-92cb-c59529ecab71"
      },
      "source": [
        "from sklearn.metrics import f1_score\n",
        "f1_score(y_true, y_pred, average='macro')"
      ],
      "execution_count": 47,
      "outputs": [
        {
          "output_type": "execute_result",
          "data": {
            "text/plain": [
              "0.7534955343393901"
            ]
          },
          "metadata": {},
          "execution_count": 47
        }
      ]
    },
    {
      "cell_type": "markdown",
      "metadata": {
        "id": "VSeyfyI4XdJE"
      },
      "source": [
        "Выполним предсказание для конкретного объекта (с индексом 708) исходных данных:"
      ]
    },
    {
      "cell_type": "code",
      "metadata": {
        "colab": {
          "base_uri": "https://localhost:8080/"
        },
        "id": "L0lrbyvFXdJE",
        "outputId": "fdb8edb3-8b63-40ac-dfda-d244bd68f044"
      },
      "source": [
        "df.loc[729, features]"
      ],
      "execution_count": 57,
      "outputs": [
        {
          "output_type": "execute_result",
          "data": {
            "text/plain": [
              "Pregnancies                  2.000\n",
              "Glucose                     92.000\n",
              "BloodPressure               52.000\n",
              "SkinThickness                0.000\n",
              "Insulin                      0.000\n",
              "BMI                         30.100\n",
              "DiabetesPedigreeFunction     0.141\n",
              "Age                         22.000\n",
              "Name: 729, dtype: float64"
            ]
          },
          "metadata": {},
          "execution_count": 57
        }
      ]
    },
    {
      "cell_type": "markdown",
      "metadata": {
        "id": "Oabzx4XPXdJF"
      },
      "source": [
        "Назначенный класс:"
      ]
    },
    {
      "cell_type": "code",
      "metadata": {
        "colab": {
          "base_uri": "https://localhost:8080/"
        },
        "id": "PfQa3zfaXdJF",
        "outputId": "61fcf469-1bef-4e10-fcd5-bd5a5a8eed08"
      },
      "source": [
        "clf.predict([df.loc[729, features].tolist()])[0]"
      ],
      "execution_count": 58,
      "outputs": [
        {
          "output_type": "execute_result",
          "data": {
            "text/plain": [
              "0"
            ]
          },
          "metadata": {},
          "execution_count": 58
        }
      ]
    },
    {
      "cell_type": "code",
      "metadata": {
        "id": "cuqvLuQoXdJF"
      },
      "source": [
        ""
      ],
      "execution_count": 49,
      "outputs": []
    }
  ]
}