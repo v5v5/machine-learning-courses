{
  "nbformat": 4,
  "nbformat_minor": 0,
  "metadata": {
    "kernelspec": {
      "name": "python36",
      "display_name": "Python 3.6",
      "language": "python"
    },
    "language_info": {
      "mimetype": "text/x-python",
      "nbconvert_exporter": "python",
      "name": "python",
      "pygments_lexer": "ipython3",
      "version": "3.6.6",
      "file_extension": ".py",
      "codemirror_mode": {
        "version": 3,
        "name": "ipython"
      }
    },
    "colab": {
      "name": "Task_3_1.ipynb",
      "provenance": [],
      "collapsed_sections": []
    }
  },
  "cells": [
    {
      "cell_type": "markdown",
      "metadata": {
        "collapsed": true,
        "id": "WhitAgwhuxUJ"
      },
      "source": [
        "# Пример уменьшения размерности"
      ]
    },
    {
      "cell_type": "markdown",
      "metadata": {
        "id": "vzEyNaNVuxUN"
      },
      "source": [
        "Рассмотрим основные моменты уменьшения размерности на примере из лекции (рукописные цифры). "
      ]
    },
    {
      "cell_type": "markdown",
      "metadata": {
        "id": "ch8Bcdb5uxUN"
      },
      "source": [
        "Подключим требуемые библиотеки."
      ]
    },
    {
      "cell_type": "code",
      "metadata": {
        "trusted": true,
        "id": "jQBmO3zhuxUO"
      },
      "source": [
        "import numpy as np\n",
        "from sklearn.decomposition import PCA\n",
        "from sklearn import datasets\n",
        "import matplotlib\n",
        "import matplotlib.pyplot as plt\n",
        "%matplotlib inline\n",
        "from google.colab import files"
      ],
      "execution_count": 7,
      "outputs": []
    },
    {
      "cell_type": "markdown",
      "metadata": {
        "id": "9VXe6ytPuxUP"
      },
      "source": [
        "Импортируем датасет."
      ]
    },
    {
      "cell_type": "code",
      "metadata": {
        "id": "iTKSAA7RxH88"
      },
      "source": [
        "# upload homework.csv\n",
        "X = np.loadtxt(open(\"homework.csv\", \"rb\"), delimiter=\",\")"
      ],
      "execution_count": 15,
      "outputs": []
    },
    {
      "cell_type": "code",
      "metadata": {
        "colab": {
          "base_uri": "https://localhost:8080/"
        },
        "id": "QxCn9Y5pz3MU",
        "outputId": "edaed564-9989-42b1-923e-960436f2dad6"
      },
      "source": [
        "X[0]"
      ],
      "execution_count": 20,
      "outputs": [
        {
          "output_type": "execute_result",
          "data": {
            "text/plain": [
              "array([ -2.51983488,  -8.43688037,   6.9085098 ,  -5.45965612,\n",
              "         0.80754111,   6.73046028,  -4.81608355,  20.78924415,\n",
              "       -15.97031939,  11.53824102])"
            ]
          },
          "metadata": {},
          "execution_count": 20
        }
      ]
    },
    {
      "cell_type": "markdown",
      "metadata": {
        "id": "qJFBBCJJuxUR"
      },
      "source": [
        "Уменьшим размерность при помощи библиотеки __sklearn__. Отдельно обращаем ваше внимание на параметр __svd_solver__, он отвечает за метод оптимизации. Дело в том, что в Python оптимизационные задачи решаются численно. При этом могут использоваться различные алгоритмы, а значит результаты могут несколько отличаться. Поэтому, чтобы получать одинаковые результаты, нужно использовать параметры модели, указанные в задании."
      ]
    },
    {
      "cell_type": "code",
      "metadata": {
        "trusted": true,
        "colab": {
          "base_uri": "https://localhost:8080/"
        },
        "id": "SXNjc9dLuxUS",
        "outputId": "bc70e2e8-a118-4689-b32c-fe28639d952c"
      },
      "source": [
        "pca = PCA(n_components=2, svd_solver='full') #Создание объекта класса PCA. В качестве параметров выступает количество ГК и метод оптимизации\n",
        "X_transformed = pca.fit(X).transform(X) #X_transformed -- ndarray объектов, где каждый объект описывается двумя ГК\n",
        "X_transformed[0]"
      ],
      "execution_count": 21,
      "outputs": [
        {
          "output_type": "execute_result",
          "data": {
            "text/plain": [
              "array([-14.27903089, -16.39322252])"
            ]
          },
          "metadata": {},
          "execution_count": 21
        }
      ]
    },
    {
      "cell_type": "markdown",
      "metadata": {
        "id": "qcJ4XE2HuxUS"
      },
      "source": [
        "Изобразим объекты в виде точек на плоскости."
      ]
    },
    {
      "cell_type": "code",
      "metadata": {
        "trusted": true,
        "colab": {
          "base_uri": "https://localhost:8080/",
          "height": 282
        },
        "id": "2mCSu1b9uxUT",
        "outputId": "873e8567-15d6-4635-fc7e-9fe7cacd4749"
      },
      "source": [
        "plt.plot(X_transformed[:, 0], X_transformed[:, 1], 'o', markerfacecolor='red', markeredgecolor='k', markersize=8)"
      ],
      "execution_count": 24,
      "outputs": [
        {
          "output_type": "execute_result",
          "data": {
            "text/plain": [
              "[<matplotlib.lines.Line2D at 0x7f770616a5d0>]"
            ]
          },
          "metadata": {},
          "execution_count": 24
        },
        {
          "output_type": "display_data",
          "data": {
            "image/png": "[encoded data removed]",
            "text/plain": [
              "<Figure size 432x288 with 1 Axes>"
            ]
          },
          "metadata": {
            "needs_background": "light"
          }
        }
      ]
    },
    {
      "cell_type": "markdown",
      "metadata": {
        "id": "YuJWLTCfuxUU"
      },
      "source": [
        "Для дальнейшего анализа нам удобно будет построить не 2, а все 10 Главных Компонеты (хотя, конечно, это можно было сделать и сразу, а картинку строить лишь по первым двум)."
      ]
    },
    {
      "cell_type": "code",
      "metadata": {
        "trusted": true,
        "id": "280TZjgMuxUU"
      },
      "source": [
        "pca = PCA(n_components=10, svd_solver='full')\n",
        "X_full = pca.fit(X).transform(X)"
      ],
      "execution_count": 25,
      "outputs": []
    },
    {
      "cell_type": "code",
      "metadata": {
        "colab": {
          "base_uri": "https://localhost:8080/"
        },
        "id": "7zRHfTU92918",
        "outputId": "bafea3c1-0516-4e85-c523-e920571f2811"
      },
      "source": [
        "X_full[0:3]"
      ],
      "execution_count": 31,
      "outputs": [
        {
          "output_type": "execute_result",
          "data": {
            "text/plain": [
              "array([[-1.42790309e+01, -1.63932225e+01, -2.32215849e+01,\n",
              "        -1.29385197e+01, -6.18989347e+00,  1.08971357e+00,\n",
              "        -1.27563838e+00, -4.50180420e-03, -6.74475855e-01,\n",
              "         5.58473950e-01],\n",
              "       [-9.08536227e+00, -1.71274267e+01, -2.52183669e+01,\n",
              "        -1.40870279e+01, -5.08469215e+00,  1.71698077e+00,\n",
              "        -6.62744111e-01, -1.94786991e-03,  1.71302683e+00,\n",
              "        -1.74690139e-01],\n",
              "       [-1.41677470e+01,  1.02920839e+00,  3.21342920e+01,\n",
              "        -1.12827525e+01,  5.72292725e+00, -2.06300257e-02,\n",
              "        -2.55782625e+00,  7.00801906e-01, -1.41452957e+00,\n",
              "         1.06955690e+00]])"
            ]
          },
          "metadata": {},
          "execution_count": 31
        }
      ]
    },
    {
      "cell_type": "markdown",
      "metadata": {
        "id": "n_9gxB7NuxUU"
      },
      "source": [
        "Найдем долю объясненной дисперсии в зависимости от количества используемых ГК."
      ]
    },
    {
      "cell_type": "code",
      "metadata": {
        "trusted": true,
        "colab": {
          "base_uri": "https://localhost:8080/"
        },
        "id": "J9f2NnbuuxUU",
        "outputId": "918e6ab0-dde5-4eab-d4a8-4f98e999b173"
      },
      "source": [
        "explained_variance = np.round(np.cumsum(pca.explained_variance_ratio_),3)\n",
        "explained_variance"
      ],
      "execution_count": 26,
      "outputs": [
        {
          "output_type": "execute_result",
          "data": {
            "text/plain": [
              "array([0.365, 0.654, 0.874, 0.945, 0.994, 0.996, 0.997, 0.999, 0.999,\n",
              "       1.   ])"
            ]
          },
          "metadata": {},
          "execution_count": 26
        }
      ]
    },
    {
      "cell_type": "markdown",
      "metadata": {
        "id": "2S0NSiovuxUV"
      },
      "source": [
        "Построим график зависимости доли объясненной дисперсии от количества используемых ГК. Подробный описание произведено в лекции."
      ]
    },
    {
      "cell_type": "code",
      "metadata": {
        "trusted": true,
        "colab": {
          "base_uri": "https://localhost:8080/",
          "height": 282
        },
        "id": "aWOjTPDYuxUV",
        "outputId": "85b6a72d-98f0-476b-94ae-6159ea9dd7c0"
      },
      "source": [
        "plt.plot(np.arange(10), explained_variance, ls = '-')"
      ],
      "execution_count": 28,
      "outputs": [
        {
          "output_type": "execute_result",
          "data": {
            "text/plain": [
              "[<matplotlib.lines.Line2D at 0x7f7705fcbc50>]"
            ]
          },
          "metadata": {},
          "execution_count": 28
        },
        {
          "output_type": "display_data",
          "data": {
            "image/png": "[encoded data removed]",
            "text/plain": [
              "<Figure size 432x288 with 1 Axes>"
            ]
          },
          "metadata": {
            "needs_background": "light"
          }
        }
      ]
    },
    {
      "cell_type": "code",
      "metadata": {
        "trusted": true,
        "id": "T7zeBXJ2uxUV"
      },
      "source": [
        ""
      ],
      "execution_count": null,
      "outputs": []
    }
  ]
}